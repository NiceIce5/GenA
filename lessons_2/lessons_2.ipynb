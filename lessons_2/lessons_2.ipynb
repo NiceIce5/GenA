{
 "cells": [
  {
   "cell_type": "markdown",
   "metadata": {
    "id": "T6OAnCLNk68q"
   },
   "source": [
    "**1. Підготовка середовища**"
   ]
  },
  {
   "cell_type": "code",
   "execution_count": 193,
   "metadata": {
    "executionInfo": {
     "elapsed": 323,
     "status": "ok",
     "timestamp": 1732821834937,
     "user": {
      "displayName": "Andrii Melnychenko",
      "userId": "01331969983638300934"
     },
     "user_tz": -120
    },
    "id": "JTVomgN6i7_l"
   },
   "outputs": [],
   "source": [
    "import torch\n",
    "import torch.nn as nn\n",
    "import torch.optim as optim\n",
    "import torchvision\n",
    "import torchvision.transforms as transforms\n",
    "import matplotlib.pyplot as plt"
   ]
  },
  {
   "cell_type": "code",
   "execution_count": 194,
   "metadata": {
    "colab": {
     "base_uri": "https://localhost:8080/",
     "height": 36
    },
    "executionInfo": {
     "elapsed": 561,
     "status": "ok",
     "timestamp": 1732821836801,
     "user": {
      "displayName": "Andrii Melnychenko",
      "userId": "01331969983638300934"
     },
     "user_tz": -120
    },
    "id": "8IL_sMkiwaVI",
    "outputId": "a5a014d0-3c3c-4387-de43-d07db23c9a49"
   },
   "outputs": [
    {
     "data": {
      "application/vnd.google.colaboratory.intrinsic+json": {
       "type": "string"
      },
      "text/plain": [
       "'cpu'"
      ]
     },
     "execution_count": 194,
     "metadata": {},
     "output_type": "execute_result"
    }
   ],
   "source": [
    "device = \"cuda\" if torch.cuda.is_available() else \"cpu\"\n",
    "device"
   ]
  },
  {
   "cell_type": "markdown",
   "metadata": {
    "id": "z282dSn3lAEK"
   },
   "source": [
    "**2. Завантаження та попередня обробка даних**"
   ]
  },
  {
   "cell_type": "code",
   "execution_count": 195,
   "metadata": {
    "colab": {
     "base_uri": "https://localhost:8080/",
     "height": 452
    },
    "executionInfo": {
     "elapsed": 333,
     "status": "ok",
     "timestamp": 1732821838694,
     "user": {
      "displayName": "Andrii Melnychenko",
      "userId": "01331969983638300934"
     },
     "user_tz": -120
    },
    "id": "oYSlOMsPkjMy",
    "outputId": "9a004959-8484-48ad-e2fe-6fca397a6c4f"
   },
   "outputs": [
    {
     "data": {
      "image/png": "[encoded data removed]",
      "text/plain": [
       "<Figure size 640x480 with 1 Axes>"
      ]
     },
     "metadata": {},
     "output_type": "display_data"
    }
   ],
   "source": [
    "# Трансформація зображення\n",
    "transform = transforms.Compose([\n",
    "    transforms.ToTensor()  # Перетворює зображення в тензор та нормалізує від 0.0 до 1.0\n",
    "])\n",
    "\n",
    "# Завантаження набору даних MNIST + розділення на train/test датасет\n",
    "train_dataset = torchvision.datasets.MNIST(root='./data',\n",
    "                                           train = True,\n",
    "                                           download=True,\n",
    "                                           transform=transform)\n",
    "test_dataset = torchvision.datasets.MNIST(root='./data',\n",
    "                                          train = False,\n",
    "                                          download=True,\n",
    "                                          transform=transform)\n",
    "\n",
    "#image.shape\n",
    "#розмірність torch.Size([1, 28, 28])\n",
    "\n",
    "#f\"Train: {len(train_dataset.data)}\", f\"Test: {len(test_dataset.data)}\"\n",
    "#('Train: 60000', 'Test: 10000')\n",
    "\n",
    "\n",
    "# Розмір батчу\n",
    "batch_size = 32 #64\n",
    "\n",
    "train_loader = torch.utils.data.DataLoader(train_dataset,\n",
    "                                           batch_size = batch_size,\n",
    "                                           shuffle = True)\n",
    "test_loader = torch.utils.data.DataLoader(test_dataset,\n",
    "                                          batch_size = batch_size,\n",
    "                                          shuffle = False)\n",
    "\n",
    "\n",
    "class_names = train_dataset.classes\n",
    "\n",
    "# Перевірка прикладу зображення\n",
    "examples = iter(train_loader)\n",
    "example_data, example_targets = next(examples)\n",
    "plt.imshow(example_data[0][0], cmap='gray')\n",
    "plt.title(f'Label: {example_targets[0]}')\n",
    "plt.show()"
   ]
  },
  {
   "cell_type": "markdown",
   "metadata": {
    "id": "f_yCpiqSuKhb"
   },
   "source": [
    "\n",
    "**3. Створення архітектури нейронної мережі**\n",
    "\n",
    "**4. Налаштування параметрів навчання**"
   ]
  },
  {
   "cell_type": "code",
   "execution_count": 196,
   "metadata": {
    "executionInfo": {
     "elapsed": 321,
     "status": "ok",
     "timestamp": 1732821840176,
     "user": {
      "displayName": "Andrii Melnychenko",
      "userId": "01331969983638300934"
     },
     "user_tz": -120
    },
    "id": "jenQSAkv-6_8"
   },
   "outputs": [],
   "source": [
    "#Час виконання\n",
    "from timeit import default_timer as timer\n",
    "def print_train_time(start: float, end: float, device: torch.device = None):\n",
    "    \"\"\"Prints difference between start and end time.\n",
    "\n",
    "    Args:\n",
    "        start (float): Start time of computation (preferred in timeit format).\n",
    "        end (float): End time of computation.\n",
    "        device ([type], optional): Device that compute is running on. Defaults to None.\n",
    "\n",
    "    Returns:\n",
    "        float: time between start and end in seconds (higher is longer).\n",
    "    \"\"\"\n",
    "    total_time = end - start\n",
    "    print(f\"Train time on {device}: {total_time:.3f} seconds\")\n",
    "    return total_time\n",
    "\n",
    "\n",
    "# Метрика правильності\n",
    "def accuracy_fn(y_true, y_pred):\n",
    "    correct = torch.eq(y_true, y_pred).sum().item()\n",
    "    acc = (correct / len(y_pred)) * 100\n",
    "    return acc"
   ]
  },
  {
   "cell_type": "code",
   "execution_count": 197,
   "metadata": {
    "colab": {
     "base_uri": "https://localhost:8080/"
    },
    "executionInfo": {
     "elapsed": 464,
     "status": "ok",
     "timestamp": 1732821842155,
     "user": {
      "displayName": "Andrii Melnychenko",
      "userId": "01331969983638300934"
     },
     "user_tz": -120
    },
    "id": "opQPozU1y0CB",
    "outputId": "94087fc0-5d43-4277-8656-38e45b27dd44"
   },
   "outputs": [
    {
     "name": "stdout",
     "output_type": "stream",
     "text": [
      "Shape after flattening: torch.Size([1, 784]) -> [color_channels, height*width]\n"
     ]
    }
   ],
   "source": [
    "#Перетворюємо на к-сть вхідних нейронів(28*28)\n",
    "train_features_batch, train_labels_batch = next(iter(train_loader))\n",
    "train_features_batch.shape, train_labels_batch.shape\n",
    "\n",
    "flatten_model = nn.Flatten()\n",
    "x = train_features_batch[0]\n",
    "output = flatten_model(x) # perform forward pass\n",
    "print(f\"Shape after flattening: {output.shape} -> [color_channels, height*width]\")"
   ]
  },
  {
   "cell_type": "code",
   "execution_count": 198,
   "metadata": {
    "executionInfo": {
     "elapsed": 2,
     "status": "ok",
     "timestamp": 1732821843495,
     "user": {
      "displayName": "Andrii Melnychenko",
      "userId": "01331969983638300934"
     },
     "user_tz": -120
    },
    "id": "CJJG8j-H0UBZ"
   },
   "outputs": [],
   "source": [
    "#Створюємо класс з базовою моделлю\n",
    "class SimpleNN(nn.Module):\n",
    "    def __init__(self, input_shape: int, hidden_units: int, output_shape: int):\n",
    "        super(SimpleNN, self).__init__()\n",
    "        self.layer_stack = nn.Sequential(\n",
    "            nn.Flatten(),\n",
    "            nn.Linear(in_features = input_shape, out_features = hidden_units),\n",
    "            nn.ReLU(),\n",
    "            nn.Linear(in_features = hidden_units, out_features = hidden_units),\n",
    "            nn.ReLU(),\n",
    "            nn.Linear(in_features = hidden_units, out_features = output_shape)\n",
    "        )\n",
    "\n",
    "    def forward(self, x):\n",
    "      # return self.layer_2(self.layer_1(x))\n",
    "      return self.layer_stack(x)\n",
    "\n",
    "torch.manual_seed(42)\n",
    "model = SimpleNN(input_shape = output.shape[1],\n",
    "                 hidden_units = 16,\n",
    "                 output_shape = len(train_dataset.classes)\n",
    ")\n",
    "\n",
    "\n",
    "#Ініціалізація функцію втрати та оптимізатор(SGD)\n",
    "loss_fn = nn.CrossEntropyLoss()\n",
    "optimizer = optim.SGD(params = model.parameters(), lr = 0.1)"
   ]
  },
  {
   "cell_type": "markdown",
   "metadata": {
    "id": "A_7YPztyAXvP"
   },
   "source": [
    "**5. Навчання моделі**"
   ]
  },
  {
   "cell_type": "code",
   "execution_count": 199,
   "metadata": {
    "colab": {
     "base_uri": "https://localhost:8080/",
     "height": 935,
     "referenced_widgets": [
      "8465531bc3ac4d57a613b357a013951a",
      "c916a4d81cf042d59aa6d668497c3d3d",
      "8cd1094e3fc144bf815c8c78e36c7b85",
      "ac28aa0ebe09430782526e596b49bc6d",
      "3f841746d1f84bf6816934ec7fa04f69",
      "731fabb2bdb143cca8f5a97e1ec6b80c",
      "7dfb10a12755422f9c8f8504cfcc7613",
      "9a94a2828dd047e0982474c780de94fc",
      "c29ddb41cb22447cb67fe37d893bd581",
      "9411e114675146919560e8ed17230076",
      "2216de8a43c841b7816ec535be01ac14"
     ]
    },
    "executionInfo": {
     "elapsed": 63329,
     "status": "ok",
     "timestamp": 1732821913355,
     "user": {
      "displayName": "Andrii Melnychenko",
      "userId": "01331969983638300934"
     },
     "user_tz": -120
    },
    "id": "Zwa98mAV2Xgr",
    "outputId": "f063cf3a-40a8-49fd-ca1d-f7d54c66a936"
   },
   "outputs": [
    {
     "data": {
      "application/vnd.jupyter.widget-view+json": {
       "model_id": "8465531bc3ac4d57a613b357a013951a",
       "version_major": 2,
       "version_minor": 0
      },
      "text/plain": [
       "  0%|          | 0/5 [00:00<?, ?it/s]"
      ]
     },
     "metadata": {},
     "output_type": "display_data"
    },
    {
     "name": "stdout",
     "output_type": "stream",
     "text": [
      "Epoch: 0\n",
      "-------\n",
      "Looked at 0/60000 samples\n",
      "Looked at 12800/60000 samples\n",
      "Looked at 25600/60000 samples\n",
      "Looked at 38400/60000 samples\n",
      "Looked at 51200/60000 samples\n",
      "\n",
      "Train loss: 0.47354 Train acc: 85.20% | Test loss: 0.22499, Test acc: 93.01%\n",
      "\n",
      "Epoch: 1\n",
      "-------\n",
      "Looked at 0/60000 samples\n",
      "Looked at 12800/60000 samples\n",
      "Looked at 25600/60000 samples\n",
      "Looked at 38400/60000 samples\n",
      "Looked at 51200/60000 samples\n",
      "\n",
      "Train loss: 0.22053 Train acc: 93.45% | Test loss: 0.17406, Test acc: 94.60%\n",
      "\n",
      "Epoch: 2\n",
      "-------\n",
      "Looked at 0/60000 samples\n",
      "Looked at 12800/60000 samples\n",
      "Looked at 25600/60000 samples\n",
      "Looked at 38400/60000 samples\n",
      "Looked at 51200/60000 samples\n",
      "\n",
      "Train loss: 0.18278 Train acc: 94.54% | Test loss: 0.15897, Test acc: 95.30%\n",
      "\n",
      "Epoch: 3\n",
      "-------\n",
      "Looked at 0/60000 samples\n",
      "Looked at 12800/60000 samples\n",
      "Looked at 25600/60000 samples\n",
      "Looked at 38400/60000 samples\n",
      "Looked at 51200/60000 samples\n",
      "\n",
      "Train loss: 0.16468 Train acc: 95.03% | Test loss: 0.18310, Test acc: 94.40%\n",
      "\n",
      "Epoch: 4\n",
      "-------\n",
      "Looked at 0/60000 samples\n",
      "Looked at 12800/60000 samples\n",
      "Looked at 25600/60000 samples\n",
      "Looked at 38400/60000 samples\n",
      "Looked at 51200/60000 samples\n",
      "\n",
      "Train loss: 0.15222 Train acc: 95.46% | Test loss: 0.15119, Test acc: 95.53%\n",
      "\n",
      "Train time on cpu: 63.363 seconds\n"
     ]
    }
   ],
   "source": [
    "#from content.helper_functions import accuracy_fn\n",
    "from tqdm.auto import tqdm\n",
    "torch.manual_seed(42)\n",
    "train_time_start_on_cpu = timer()\n",
    "\n",
    "\n",
    "# Тренування моделі\n",
    "epochs = 5\n",
    "loss_train_all = []\n",
    "acc_train_all = []\n",
    "\n",
    "for epoch in tqdm(range(epochs)):\n",
    "    print(f\"Epoch: {epoch}\\n-------\")\n",
    "\n",
    "    #Тренування\n",
    "    train_loss, train_acc = 0, 0\n",
    "\n",
    "    for batch, (X, y) in enumerate(train_loader):\n",
    "\n",
    "      model.train()\n",
    "\n",
    "      # Прямий прохід\n",
    "      #y_pred = model(X)\n",
    "      y_logits = model(X)\n",
    "      y_pred = torch.softmax(y_logits, dim = 1)\n",
    "\n",
    "      # Дивимося втрати\n",
    "      loss = loss_fn(y_logits, y)\n",
    "      train_loss += loss\n",
    "\n",
    "      # Визначаємо точність\n",
    "      train_acc += accuracy_fn(y_true = y, y_pred = y_pred.argmax(dim=1))\n",
    "\n",
    "\n",
    "      # Зворотній прохід та оптимізація\n",
    "      optimizer.zero_grad()\n",
    "      loss.backward()\n",
    "      optimizer.step()\n",
    "\n",
    "      #Результат\n",
    "      if batch % 400 == 0:\n",
    "          print(f'Looked at {batch * len(X)}/{len(train_loader.dataset)} samples')\n",
    "\n",
    "    train_loss /= len(train_loader)\n",
    "    train_acc /= len(train_loader)\n",
    "\n",
    "    ### Тестування\n",
    "\n",
    "    test_loss, test_acc = 0, 0\n",
    "\n",
    "    model.eval()\n",
    "    with torch.inference_mode():\n",
    "        for X, y in test_loader:\n",
    "\n",
    "            # Прямий прохід\n",
    "            #test_pred = model(X)\n",
    "            test_logits = model(X)\n",
    "            test_pred = torch.softmax(test_logits, dim = 1)\n",
    "\n",
    "            # Дивимося втрати\n",
    "            test_loss += loss_fn(test_logits, y)\n",
    "\n",
    "            # Визначаємо точність\n",
    "            test_acc += accuracy_fn(y_true = y, y_pred = test_pred.argmax(dim=1))\n",
    "\n",
    "        test_loss /= len(test_loader)\n",
    "        test_acc /= len(test_loader)\n",
    "\n",
    "    ## Результат\n",
    "    print(f\"\\nTrain loss: {train_loss:.5f} Train acc: {train_acc:.2f}% | Test loss: {test_loss:.5f}, Test acc: {test_acc:.2f}%\\n\")\n",
    "\n",
    "    loss_train_all.append(train_loss)\n",
    "    acc_train_all.append(train_acc)\n",
    "\n",
    "# Рахуємо витрачений час\n",
    "train_time_end_on_cpu = timer()\n",
    "total_train_time_model_0 = print_train_time(start = train_time_start_on_cpu,\n",
    "                                           end = train_time_end_on_cpu,\n",
    "                                           device = str(next(model.parameters()).device))"
   ]
  },
  {
   "cell_type": "code",
   "execution_count": 200,
   "metadata": {
    "executionInfo": {
     "elapsed": 337,
     "status": "ok",
     "timestamp": 1732821918362,
     "user": {
      "displayName": "Andrii Melnychenko",
      "userId": "01331969983638300934"
     },
     "user_tz": -120
    },
    "id": "wJKtRlEbGdIS"
   },
   "outputs": [],
   "source": [
    "scalar_loss_list = [t.item() for t in loss_train_all]"
   ]
  },
  {
   "cell_type": "markdown",
   "metadata": {
    "id": "U0TuWKiVM98C"
   },
   "source": [
    "**Побудуйте графік втрат та точності під час навчання**"
   ]
  },
  {
   "cell_type": "code",
   "execution_count": 201,
   "metadata": {
    "colab": {
     "base_uri": "https://localhost:8080/",
     "height": 507
    },
    "executionInfo": {
     "elapsed": 1018,
     "status": "ok",
     "timestamp": 1732821922222,
     "user": {
      "displayName": "Andrii Melnychenko",
      "userId": "01331969983638300934"
     },
     "user_tz": -120
    },
    "id": "3_R_DQGALraW",
    "outputId": "79a0db60-c377-4349-8599-8a6309797696"
   },
   "outputs": [
    {
     "data": {
      "image/png": "[encoded data removed]",
      "text/plain": [
       "<Figure size 1200x500 with 2 Axes>"
      ]
     },
     "metadata": {},
     "output_type": "display_data"
    }
   ],
   "source": [
    "fig, ax = plt.subplots(1, 2, figsize=(12, 5))  # 1 рядок, 2 стовпці\n",
    "\n",
    "# Перший графік (Loss)\n",
    "ax[0].plot(scalar_loss_list, label='Loss', color='blue')\n",
    "ax[0].set_xlabel('Epoch')\n",
    "ax[0].set_ylabel('Loss')\n",
    "ax[0].set_title('Training Loss')\n",
    "ax[0].grid(True)\n",
    "\n",
    "# Другий графік (Accuracy)\n",
    "ax[1].plot(acc_train_all, label='Accuracy', color='orange')\n",
    "ax[1].set_xlabel('Epoch')\n",
    "ax[1].set_ylabel('Accuracy')\n",
    "ax[1].set_title('Training Accuracy')\n",
    "ax[1].grid(True)\n",
    "\n",
    "# Відображення\n",
    "plt.tight_layout()  # Для коректного розміщення\n",
    "plt.show()"
   ]
  },
  {
   "cell_type": "markdown",
   "metadata": {
    "id": "YTqAlN2cqzDN"
   },
   "source": [
    "**Оцінка моделі**"
   ]
  },
  {
   "cell_type": "code",
   "execution_count": 202,
   "metadata": {
    "colab": {
     "base_uri": "https://localhost:8080/"
    },
    "executionInfo": {
     "elapsed": 1613,
     "status": "ok",
     "timestamp": 1732822274411,
     "user": {
      "displayName": "Andrii Melnychenko",
      "userId": "01331969983638300934"
     },
     "user_tz": -120
    },
    "id": "RuYTR5Izqq5A",
    "outputId": "ffb1b48b-b067-45fd-e03f-0db8b1b47150"
   },
   "outputs": [
    {
     "data": {
      "text/plain": [
       "{'model_name': 'SimpleNN',\n",
       " 'model_loss': 0.15119454264640808,\n",
       " 'model_acc': 95.52715654952077}"
      ]
     },
     "execution_count": 202,
     "metadata": {},
     "output_type": "execute_result"
    }
   ],
   "source": [
    "torch.manual_seed(42)\n",
    "\n",
    "def eval_model(model: torch.nn.Module,\n",
    "               data_loader: torch.utils.data.DataLoader,\n",
    "               loss_fn: torch.nn.Module,\n",
    "               accuracy_fn,\n",
    "               device: torch.device = device):\n",
    "\n",
    "    loss, acc = 0, 0\n",
    "\n",
    "    model.eval()\n",
    "    with torch.inference_mode():\n",
    "        for X, y in data_loader:\n",
    "\n",
    "            X, y = X.to(device), y.to(device)\n",
    "\n",
    "            y_pred = model(X)\n",
    "\n",
    "            loss += loss_fn(y_pred, y)\n",
    "            acc += accuracy_fn(y_true = y,\n",
    "                                y_pred = y_pred.argmax(dim=1))\n",
    "\n",
    "        loss /= len(data_loader)\n",
    "        acc /= len(data_loader)\n",
    "\n",
    "    return {\"model_name\": model.__class__.__name__, # only works when model was created with a class\n",
    "            \"model_loss\": loss.item(),\n",
    "            \"model_acc\": acc}\n",
    "\n",
    "# Рахуємо точність та витрати на тестовому наборі\n",
    "model_results = eval_model(model = model,\n",
    "                           data_loader = test_loader,\n",
    "                           loss_fn = loss_fn,\n",
    "                           accuracy_fn = accuracy_fn,\n",
    "                           device = device\n",
    ")\n",
    "\n",
    "model_results"
   ]
  },
  {
   "cell_type": "markdown",
   "metadata": {
    "id": "v9ZhHe1p4NgT"
   },
   "source": [
    "**Confusion Matrix**"
   ]
  },
  {
   "cell_type": "code",
   "execution_count": 203,
   "metadata": {
    "colab": {
     "base_uri": "https://localhost:8080/",
     "height": 49,
     "referenced_widgets": [
      "4acb0161bc7445a4bc2b50e5f19cbb4c",
      "30d6ee48a8d1477d8cf6c8af709c9710",
      "56c71f3ed5d441fdbd34f5c77239eee5",
      "18ff87b073834a76b7bc8416f2feb2e5",
      "b24ce8edd32d4839955c1e3ae19cec6f",
      "38c7abb0b63d47d2829f4e8ecf134ea2",
      "5923c93972db40e99354c23b3b8ec818",
      "547186611b08464d9fdcf118b574de09",
      "6c911ca2992a4f5ca065778575a7b043",
      "55f2bdf3a2f84449ab3027b1c38c1532",
      "29b1de35db564373b84d00fdd8a92144"
     ]
    },
    "executionInfo": {
     "elapsed": 1930,
     "status": "ok",
     "timestamp": 1732822341663,
     "user": {
      "displayName": "Andrii Melnychenko",
      "userId": "01331969983638300934"
     },
     "user_tz": -120
    },
    "id": "NWS2kdVF3Rfw",
    "outputId": "7951a848-c9c3-4b7b-d1e9-fc10c5ac2381"
   },
   "outputs": [
    {
     "data": {
      "application/vnd.jupyter.widget-view+json": {
       "model_id": "4acb0161bc7445a4bc2b50e5f19cbb4c",
       "version_major": 2,
       "version_minor": 0
      },
      "text/plain": [
       "Making predictions:   0%|          | 0/313 [00:00<?, ?it/s]"
      ]
     },
     "metadata": {},
     "output_type": "display_data"
    }
   ],
   "source": [
    "from tqdm.auto import tqdm\n",
    "\n",
    "y_preds = []\n",
    "\n",
    "model.eval()\n",
    "with torch.inference_mode():\n",
    "  for X, y in tqdm(test_loader, desc = \"Making predictions\"):\n",
    "\n",
    "    X, y = X.to(device), y.to(device)\n",
    "    y_logit = model(X)\n",
    "    y_pred = torch.softmax(y_logit, dim = 1).argmax(dim = 1)\n",
    "\n",
    "    y_preds.append(y_pred.cpu())\n",
    "\n",
    "y_pred_tensor = torch.cat(y_preds)"
   ]
  },
  {
   "cell_type": "code",
   "execution_count": 204,
   "metadata": {
    "colab": {
     "base_uri": "https://localhost:8080/",
     "height": 677
    },
    "executionInfo": {
     "elapsed": 557,
     "status": "ok",
     "timestamp": 1732822343733,
     "user": {
      "displayName": "Andrii Melnychenko",
      "userId": "01331969983638300934"
     },
     "user_tz": -120
    },
    "id": "lV6bvU_I-f7c",
    "outputId": "1ce3c9fe-9ace-43de-abdd-33485eaad41e"
   },
   "outputs": [
    {
     "name": "stdout",
     "output_type": "stream",
     "text": [
      "mlxtend version: 0.23.3\n"
     ]
    },
    {
     "data": {
      "image/png": "[encoded data removed]",
      "text/plain": [
       "<Figure size 1000x700 with 1 Axes>"
      ]
     },
     "metadata": {},
     "output_type": "display_data"
    }
   ],
   "source": [
    "# See if torchmetrics exists, if not, install it\n",
    "try:\n",
    "    import torchmetrics, mlxtend\n",
    "    print(f\"mlxtend version: {mlxtend.__version__}\")\n",
    "    assert int(mlxtend.__version__.split(\".\")[1]) >= 19, \"mlxtend verison should be 0.19.0 or higher\"\n",
    "except:\n",
    "    !pip install -q torchmetrics -U mlxtend # <- Note: If you're using Google Colab, this may require restarting the runtime\n",
    "    import torchmetrics, mlxtend\n",
    "    print(f\"mlxtend version: {mlxtend.__version__}\")\n",
    "\n",
    "\n",
    "from torchmetrics import ConfusionMatrix\n",
    "from mlxtend.plotting import plot_confusion_matrix\n",
    "\n",
    "\n",
    "confmat = ConfusionMatrix(num_classes = len(class_names), task = 'multiclass')\n",
    "confmat_tensor = confmat(preds = y_pred_tensor,\n",
    "                         target = test_dataset.targets)\n",
    "\n",
    "fig, ax = plot_confusion_matrix(conf_mat = confmat_tensor.numpy(),\n",
    "                                class_names = class_names,\n",
    "                                figsize=(10, 7)\n",
    ");"
   ]
  },
  {
   "cell_type": "markdown",
   "metadata": {
    "id": "PojR5b-BwUZu"
   },
   "source": [
    "**Візуалізація результатів**"
   ]
  },
  {
   "cell_type": "code",
   "execution_count": 205,
   "metadata": {
    "executionInfo": {
     "elapsed": 328,
     "status": "ok",
     "timestamp": 1732822346743,
     "user": {
      "displayName": "Andrii Melnychenko",
      "userId": "01331969983638300934"
     },
     "user_tz": -120
    },
    "id": "D0Blm96MBTJx"
   },
   "outputs": [],
   "source": [
    "def make_predictions(model: torch.nn.Module, data: list, device: torch.device = device):\n",
    "    pred_probs = []\n",
    "    model.eval()\n",
    "    with torch.inference_mode():\n",
    "        for sample in data:\n",
    "\n",
    "            sample = torch.unsqueeze(sample, dim=0).to(device)\n",
    "            pred_logit = model(sample)\n",
    "            pred_prob = torch.softmax(pred_logit.squeeze(), dim=0)\n",
    "            pred_probs.append(pred_prob.cpu())\n",
    "\n",
    "    return torch.stack(pred_probs)"
   ]
  },
  {
   "cell_type": "code",
   "execution_count": 206,
   "metadata": {
    "colab": {
     "base_uri": "https://localhost:8080/"
    },
    "executionInfo": {
     "elapsed": 1587,
     "status": "ok",
     "timestamp": 1732822349502,
     "user": {
      "displayName": "Andrii Melnychenko",
      "userId": "01331969983638300934"
     },
     "user_tz": -120
    },
    "id": "ZL3eeHTVCH6h",
    "outputId": "7b4ba9f3-f56b-4d95-b923-d44e56c29a5f"
   },
   "outputs": [
    {
     "name": "stdout",
     "output_type": "stream",
     "text": [
      "Test sample image shape: torch.Size([1, 28, 28])\n",
      "Test sample label: 2 (2 - two)\n"
     ]
    }
   ],
   "source": [
    "import random\n",
    "random.seed(42)\n",
    "test_samples = []\n",
    "test_labels = []\n",
    "for sample, label in random.sample(list(test_dataset), k=9):\n",
    "    test_samples.append(sample)\n",
    "    test_labels.append(label)\n",
    "\n",
    "print(f\"Test sample image shape: {test_samples[0].shape}\\nTest sample label: {test_labels[0]} ({class_names[test_labels[0]]})\")"
   ]
  },
  {
   "cell_type": "code",
   "execution_count": 207,
   "metadata": {
    "executionInfo": {
     "elapsed": 2,
     "status": "ok",
     "timestamp": 1732822351028,
     "user": {
      "displayName": "Andrii Melnychenko",
      "userId": "01331969983638300934"
     },
     "user_tz": -120
    },
    "id": "eDOFGKjgCJrK"
   },
   "outputs": [],
   "source": [
    "pred_probs = make_predictions(model = model,\n",
    "                              data = test_samples)"
   ]
  },
  {
   "cell_type": "code",
   "execution_count": 208,
   "metadata": {
    "colab": {
     "base_uri": "https://localhost:8080/"
    },
    "executionInfo": {
     "elapsed": 2,
     "status": "ok",
     "timestamp": 1732822352470,
     "user": {
      "displayName": "Andrii Melnychenko",
      "userId": "01331969983638300934"
     },
     "user_tz": -120
    },
    "id": "1c2xrdFLCaOC",
    "outputId": "1c9b1a38-92e3-4316-d707-f1265abc0399"
   },
   "outputs": [
    {
     "data": {
      "text/plain": [
       "tensor([2, 1, 2, 4, 6, 6, 4, 9, 1])"
      ]
     },
     "execution_count": 208,
     "metadata": {},
     "output_type": "execute_result"
    }
   ],
   "source": [
    "pred_classes = pred_probs.argmax(dim=1)\n",
    "pred_classes"
   ]
  },
  {
   "cell_type": "code",
   "execution_count": 209,
   "metadata": {
    "colab": {
     "base_uri": "https://localhost:8080/",
     "height": 749
    },
    "executionInfo": {
     "elapsed": 910,
     "status": "ok",
     "timestamp": 1732822354874,
     "user": {
      "displayName": "Andrii Melnychenko",
      "userId": "01331969983638300934"
     },
     "user_tz": -120
    },
    "id": "NzZeomqrvx5B",
    "outputId": "5cca5487-823b-4ec3-f41c-74d1971cd922"
   },
   "outputs": [
    {
     "data": {
      "image/png": "[encoded data removed]",
      "text/plain": [
       "<Figure size 900x900 with 9 Axes>"
      ]
     },
     "metadata": {},
     "output_type": "display_data"
    }
   ],
   "source": [
    "# Plot predictions\n",
    "plt.figure(figsize = (9, 9))\n",
    "nrows = 3\n",
    "ncols = 3\n",
    "for i, sample in enumerate(test_samples):\n",
    "  # Create a subplot\n",
    "  plt.subplot(nrows, ncols, i+1)\n",
    "\n",
    "  # Plot the target image\n",
    "  plt.imshow(sample.squeeze(), cmap=\"gray\")\n",
    "\n",
    "  # Find the prediction label (in text form, e.g. \"Sandal\")\n",
    "  pred_label = class_names[pred_classes[i]]\n",
    "\n",
    "  # Get the truth label (in text form, e.g. \"T-shirt\")\n",
    "  truth_label = class_names[test_labels[i]]\n",
    "\n",
    "  # Create the title text of the plot\n",
    "  title_text = f\"Pred: {pred_label} | Truth: {truth_label}\"\n",
    "\n",
    "  # Check for equality and change title colour accordingly\n",
    "  if pred_label == truth_label:\n",
    "      plt.title(title_text, fontsize=10, c=\"g\") # green text if correct\n",
    "  else:\n",
    "      plt.title(title_text, fontsize=10, c=\"r\") # red text if wrong\n",
    "  plt.axis(False);"
   ]
  }
 ],
 "metadata": {
  "colab": {
   "authorship_tag": "ABX9TyM9Tx8WFFcT53n3BvYS4dPe",
   "provenance": []
  },
  "kernelspec": {
   "display_name": "gen_ai",
   "language": "python",
   "name": "python3"
  },
  "language_info": {
   "name": "python",
   "version": "3.11.8"
  },
  "widgets": {
   "application/vnd.jupyter.widget-state+json": {
    "18ff87b073834a76b7bc8416f2feb2e5": {
     "model_module": "@jupyter-widgets/controls",
     "model_module_version": "1.5.0",
     "model_name": "HTMLModel",
     "state": {
      "_dom_classes": [],
      "_model_module": "@jupyter-widgets/controls",
      "_model_module_version": "1.5.0",
      "_model_name": "HTMLModel",
      "_view_count": null,
      "_view_module": "@jupyter-widgets/controls",
      "_view_module_version": "1.5.0",
      "_view_name": "HTMLView",
      "description": "",
      "description_tooltip": null,
      "layout": "IPY_MODEL_55f2bdf3a2f84449ab3027b1c38c1532",
      "placeholder": "​",
      "style": "IPY_MODEL_29b1de35db564373b84d00fdd8a92144",
      "value": " 313/313 [00:01&lt;00:00, 183.89it/s]"
     }
    },
    "2216de8a43c841b7816ec535be01ac14": {
     "model_module": "@jupyter-widgets/controls",
     "model_module_version": "1.5.0",
     "model_name": "DescriptionStyleModel",
     "state": {
      "_model_module": "@jupyter-widgets/controls",
      "_model_module_version": "1.5.0",
      "_model_name": "DescriptionStyleModel",
      "_view_count": null,
      "_view_module": "@jupyter-widgets/base",
      "_view_module_version": "1.2.0",
      "_view_name": "StyleView",
      "description_width": ""
     }
    },
    "29b1de35db564373b84d00fdd8a92144": {
     "model_module": "@jupyter-widgets/controls",
     "model_module_version": "1.5.0",
     "model_name": "DescriptionStyleModel",
     "state": {
      "_model_module": "@jupyter-widgets/controls",
      "_model_module_version": "1.5.0",
      "_model_name": "DescriptionStyleModel",
      "_view_count": null,
      "_view_module": "@jupyter-widgets/base",
      "_view_module_version": "1.2.0",
      "_view_name": "StyleView",
      "description_width": ""
     }
    },
    "30d6ee48a8d1477d8cf6c8af709c9710": {
     "model_module": "@jupyter-widgets/controls",
     "model_module_version": "1.5.0",
     "model_name": "HTMLModel",
     "state": {
      "_dom_classes": [],
      "_model_module": "@jupyter-widgets/controls",
      "_model_module_version": "1.5.0",
      "_model_name": "HTMLModel",
      "_view_count": null,
      "_view_module": "@jupyter-widgets/controls",
      "_view_module_version": "1.5.0",
      "_view_name": "HTMLView",
      "description": "",
      "description_tooltip": null,
      "layout": "IPY_MODEL_38c7abb0b63d47d2829f4e8ecf134ea2",
      "placeholder": "​",
      "style": "IPY_MODEL_5923c93972db40e99354c23b3b8ec818",
      "value": "Making predictions: 100%"
     }
    },
    "38c7abb0b63d47d2829f4e8ecf134ea2": {
     "model_module": "@jupyter-widgets/base",
     "model_module_version": "1.2.0",
     "model_name": "LayoutModel",
     "state": {
      "_model_module": "@jupyter-widgets/base",
      "_model_module_version": "1.2.0",
      "_model_name": "LayoutModel",
      "_view_count": null,
      "_view_module": "@jupyter-widgets/base",
      "_view_module_version": "1.2.0",
      "_view_name": "LayoutView",
      "align_content": null,
      "align_items": null,
      "align_self": null,
      "border": null,
      "bottom": null,
      "display": null,
      "flex": null,
      "flex_flow": null,
      "grid_area": null,
      "grid_auto_columns": null,
      "grid_auto_flow": null,
      "grid_auto_rows": null,
      "grid_column": null,
      "grid_gap": null,
      "grid_row": null,
      "grid_template_areas": null,
      "grid_template_columns": null,
      "grid_template_rows": null,
      "height": null,
      "justify_content": null,
      "justify_items": null,
      "left": null,
      "margin": null,
      "max_height": null,
      "max_width": null,
      "min_height": null,
      "min_width": null,
      "object_fit": null,
      "object_position": null,
      "order": null,
      "overflow": null,
      "overflow_x": null,
      "overflow_y": null,
      "padding": null,
      "right": null,
      "top": null,
      "visibility": null,
      "width": null
     }
    },
    "3f841746d1f84bf6816934ec7fa04f69": {
     "model_module": "@jupyter-widgets/base",
     "model_module_version": "1.2.0",
     "model_name": "LayoutModel",
     "state": {
      "_model_module": "@jupyter-widgets/base",
      "_model_module_version": "1.2.0",
      "_model_name": "LayoutModel",
      "_view_count": null,
      "_view_module": "@jupyter-widgets/base",
      "_view_module_version": "1.2.0",
      "_view_name": "LayoutView",
      "align_content": null,
      "align_items": null,
      "align_self": null,
      "border": null,
      "bottom": null,
      "display": null,
      "flex": null,
      "flex_flow": null,
      "grid_area": null,
      "grid_auto_columns": null,
      "grid_auto_flow": null,
      "grid_auto_rows": null,
      "grid_column": null,
      "grid_gap": null,
      "grid_row": null,
      "grid_template_areas": null,
      "grid_template_columns": null,
      "grid_template_rows": null,
      "height": null,
      "justify_content": null,
      "justify_items": null,
      "left": null,
      "margin": null,
      "max_height": null,
      "max_width": null,
      "min_height": null,
      "min_width": null,
      "object_fit": null,
      "object_position": null,
      "order": null,
      "overflow": null,
      "overflow_x": null,
      "overflow_y": null,
      "padding": null,
      "right": null,
      "top": null,
      "visibility": null,
      "width": null
     }
    },
    "4acb0161bc7445a4bc2b50e5f19cbb4c": {
     "model_module": "@jupyter-widgets/controls",
     "model_module_version": "1.5.0",
     "model_name": "HBoxModel",
     "state": {
      "_dom_classes": [],
      "_model_module": "@jupyter-widgets/controls",
      "_model_module_version": "1.5.0",
      "_model_name": "HBoxModel",
      "_view_count": null,
      "_view_module": "@jupyter-widgets/controls",
      "_view_module_version": "1.5.0",
      "_view_name": "HBoxView",
      "box_style": "",
      "children": [
       "IPY_MODEL_30d6ee48a8d1477d8cf6c8af709c9710",
       "IPY_MODEL_56c71f3ed5d441fdbd34f5c77239eee5",
       "IPY_MODEL_18ff87b073834a76b7bc8416f2feb2e5"
      ],
      "layout": "IPY_MODEL_b24ce8edd32d4839955c1e3ae19cec6f"
     }
    },
    "547186611b08464d9fdcf118b574de09": {
     "model_module": "@jupyter-widgets/base",
     "model_module_version": "1.2.0",
     "model_name": "LayoutModel",
     "state": {
      "_model_module": "@jupyter-widgets/base",
      "_model_module_version": "1.2.0",
      "_model_name": "LayoutModel",
      "_view_count": null,
      "_view_module": "@jupyter-widgets/base",
      "_view_module_version": "1.2.0",
      "_view_name": "LayoutView",
      "align_content": null,
      "align_items": null,
      "align_self": null,
      "border": null,
      "bottom": null,
      "display": null,
      "flex": null,
      "flex_flow": null,
      "grid_area": null,
      "grid_auto_columns": null,
      "grid_auto_flow": null,
      "grid_auto_rows": null,
      "grid_column": null,
      "grid_gap": null,
      "grid_row": null,
      "grid_template_areas": null,
      "grid_template_columns": null,
      "grid_template_rows": null,
      "height": null,
      "justify_content": null,
      "justify_items": null,
      "left": null,
      "margin": null,
      "max_height": null,
      "max_width": null,
      "min_height": null,
      "min_width": null,
      "object_fit": null,
      "object_position": null,
      "order": null,
      "overflow": null,
      "overflow_x": null,
      "overflow_y": null,
      "padding": null,
      "right": null,
      "top": null,
      "visibility": null,
      "width": null
     }
    },
    "55f2bdf3a2f84449ab3027b1c38c1532": {
     "model_module": "@jupyter-widgets/base",
     "model_module_version": "1.2.0",
     "model_name": "LayoutModel",
     "state": {
      "_model_module": "@jupyter-widgets/base",
      "_model_module_version": "1.2.0",
      "_model_name": "LayoutModel",
      "_view_count": null,
      "_view_module": "@jupyter-widgets/base",
      "_view_module_version": "1.2.0",
      "_view_name": "LayoutView",
      "align_content": null,
      "align_items": null,
      "align_self": null,
      "border": null,
      "bottom": null,
      "display": null,
      "flex": null,
      "flex_flow": null,
      "grid_area": null,
      "grid_auto_columns": null,
      "grid_auto_flow": null,
      "grid_auto_rows": null,
      "grid_column": null,
      "grid_gap": null,
      "grid_row": null,
      "grid_template_areas": null,
      "grid_template_columns": null,
      "grid_template_rows": null,
      "height": null,
      "justify_content": null,
      "justify_items": null,
      "left": null,
      "margin": null,
      "max_height": null,
      "max_width": null,
      "min_height": null,
      "min_width": null,
      "object_fit": null,
      "object_position": null,
      "order": null,
      "overflow": null,
      "overflow_x": null,
      "overflow_y": null,
      "padding": null,
      "right": null,
      "top": null,
      "visibility": null,
      "width": null
     }
    },
    "56c71f3ed5d441fdbd34f5c77239eee5": {
     "model_module": "@jupyter-widgets/controls",
     "model_module_version": "1.5.0",
     "model_name": "FloatProgressModel",
     "state": {
      "_dom_classes": [],
      "_model_module": "@jupyter-widgets/controls",
      "_model_module_version": "1.5.0",
      "_model_name": "FloatProgressModel",
      "_view_count": null,
      "_view_module": "@jupyter-widgets/controls",
      "_view_module_version": "1.5.0",
      "_view_name": "ProgressView",
      "bar_style": "success",
      "description": "",
      "description_tooltip": null,
      "layout": "IPY_MODEL_547186611b08464d9fdcf118b574de09",
      "max": 313,
      "min": 0,
      "orientation": "horizontal",
      "style": "IPY_MODEL_6c911ca2992a4f5ca065778575a7b043",
      "value": 313
     }
    },
    "5923c93972db40e99354c23b3b8ec818": {
     "model_module": "@jupyter-widgets/controls",
     "model_module_version": "1.5.0",
     "model_name": "DescriptionStyleModel",
     "state": {
      "_model_module": "@jupyter-widgets/controls",
      "_model_module_version": "1.5.0",
      "_model_name": "DescriptionStyleModel",
      "_view_count": null,
      "_view_module": "@jupyter-widgets/base",
      "_view_module_version": "1.2.0",
      "_view_name": "StyleView",
      "description_width": ""
     }
    },
    "6c911ca2992a4f5ca065778575a7b043": {
     "model_module": "@jupyter-widgets/controls",
     "model_module_version": "1.5.0",
     "model_name": "ProgressStyleModel",
     "state": {
      "_model_module": "@jupyter-widgets/controls",
      "_model_module_version": "1.5.0",
      "_model_name": "ProgressStyleModel",
      "_view_count": null,
      "_view_module": "@jupyter-widgets/base",
      "_view_module_version": "1.2.0",
      "_view_name": "StyleView",
      "bar_color": null,
      "description_width": ""
     }
    },
    "731fabb2bdb143cca8f5a97e1ec6b80c": {
     "model_module": "@jupyter-widgets/base",
     "model_module_version": "1.2.0",
     "model_name": "LayoutModel",
     "state": {
      "_model_module": "@jupyter-widgets/base",
      "_model_module_version": "1.2.0",
      "_model_name": "LayoutModel",
      "_view_count": null,
      "_view_module": "@jupyter-widgets/base",
      "_view_module_version": "1.2.0",
      "_view_name": "LayoutView",
      "align_content": null,
      "align_items": null,
      "align_self": null,
      "border": null,
      "bottom": null,
      "display": null,
      "flex": null,
      "flex_flow": null,
      "grid_area": null,
      "grid_auto_columns": null,
      "grid_auto_flow": null,
      "grid_auto_rows": null,
      "grid_column": null,
      "grid_gap": null,
      "grid_row": null,
      "grid_template_areas": null,
      "grid_template_columns": null,
      "grid_template_rows": null,
      "height": null,
      "justify_content": null,
      "justify_items": null,
      "left": null,
      "margin": null,
      "max_height": null,
      "max_width": null,
      "min_height": null,
      "min_width": null,
      "object_fit": null,
      "object_position": null,
      "order": null,
      "overflow": null,
      "overflow_x": null,
      "overflow_y": null,
      "padding": null,
      "right": null,
      "top": null,
      "visibility": null,
      "width": null
     }
    },
    "7dfb10a12755422f9c8f8504cfcc7613": {
     "model_module": "@jupyter-widgets/controls",
     "model_module_version": "1.5.0",
     "model_name": "DescriptionStyleModel",
     "state": {
      "_model_module": "@jupyter-widgets/controls",
      "_model_module_version": "1.5.0",
      "_model_name": "DescriptionStyleModel",
      "_view_count": null,
      "_view_module": "@jupyter-widgets/base",
      "_view_module_version": "1.2.0",
      "_view_name": "StyleView",
      "description_width": ""
     }
    },
    "8465531bc3ac4d57a613b357a013951a": {
     "model_module": "@jupyter-widgets/controls",
     "model_module_version": "1.5.0",
     "model_name": "HBoxModel",
     "state": {
      "_dom_classes": [],
      "_model_module": "@jupyter-widgets/controls",
      "_model_module_version": "1.5.0",
      "_model_name": "HBoxModel",
      "_view_count": null,
      "_view_module": "@jupyter-widgets/controls",
      "_view_module_version": "1.5.0",
      "_view_name": "HBoxView",
      "box_style": "",
      "children": [
       "IPY_MODEL_c916a4d81cf042d59aa6d668497c3d3d",
       "IPY_MODEL_8cd1094e3fc144bf815c8c78e36c7b85",
       "IPY_MODEL_ac28aa0ebe09430782526e596b49bc6d"
      ],
      "layout": "IPY_MODEL_3f841746d1f84bf6816934ec7fa04f69"
     }
    },
    "8cd1094e3fc144bf815c8c78e36c7b85": {
     "model_module": "@jupyter-widgets/controls",
     "model_module_version": "1.5.0",
     "model_name": "FloatProgressModel",
     "state": {
      "_dom_classes": [],
      "_model_module": "@jupyter-widgets/controls",
      "_model_module_version": "1.5.0",
      "_model_name": "FloatProgressModel",
      "_view_count": null,
      "_view_module": "@jupyter-widgets/controls",
      "_view_module_version": "1.5.0",
      "_view_name": "ProgressView",
      "bar_style": "success",
      "description": "",
      "description_tooltip": null,
      "layout": "IPY_MODEL_9a94a2828dd047e0982474c780de94fc",
      "max": 5,
      "min": 0,
      "orientation": "horizontal",
      "style": "IPY_MODEL_c29ddb41cb22447cb67fe37d893bd581",
      "value": 5
     }
    },
    "9411e114675146919560e8ed17230076": {
     "model_module": "@jupyter-widgets/base",
     "model_module_version": "1.2.0",
     "model_name": "LayoutModel",
     "state": {
      "_model_module": "@jupyter-widgets/base",
      "_model_module_version": "1.2.0",
      "_model_name": "LayoutModel",
      "_view_count": null,
      "_view_module": "@jupyter-widgets/base",
      "_view_module_version": "1.2.0",
      "_view_name": "LayoutView",
      "align_content": null,
      "align_items": null,
      "align_self": null,
      "border": null,
      "bottom": null,
      "display": null,
      "flex": null,
      "flex_flow": null,
      "grid_area": null,
      "grid_auto_columns": null,
      "grid_auto_flow": null,
      "grid_auto_rows": null,
      "grid_column": null,
      "grid_gap": null,
      "grid_row": null,
      "grid_template_areas": null,
      "grid_template_columns": null,
      "grid_template_rows": null,
      "height": null,
      "justify_content": null,
      "justify_items": null,
      "left": null,
      "margin": null,
      "max_height": null,
      "max_width": null,
      "min_height": null,
      "min_width": null,
      "object_fit": null,
      "object_position": null,
      "order": null,
      "overflow": null,
      "overflow_x": null,
      "overflow_y": null,
      "padding": null,
      "right": null,
      "top": null,
      "visibility": null,
      "width": null
     }
    },
    "9a94a2828dd047e0982474c780de94fc": {
     "model_module": "@jupyter-widgets/base",
     "model_module_version": "1.2.0",
     "model_name": "LayoutModel",
     "state": {
      "_model_module": "@jupyter-widgets/base",
      "_model_module_version": "1.2.0",
      "_model_name": "LayoutModel",
      "_view_count": null,
      "_view_module": "@jupyter-widgets/base",
      "_view_module_version": "1.2.0",
      "_view_name": "LayoutView",
      "align_content": null,
      "align_items": null,
      "align_self": null,
      "border": null,
      "bottom": null,
      "display": null,
      "flex": null,
      "flex_flow": null,
      "grid_area": null,
      "grid_auto_columns": null,
      "grid_auto_flow": null,
      "grid_auto_rows": null,
      "grid_column": null,
      "grid_gap": null,
      "grid_row": null,
      "grid_template_areas": null,
      "grid_template_columns": null,
      "grid_template_rows": null,
      "height": null,
      "justify_content": null,
      "justify_items": null,
      "left": null,
      "margin": null,
      "max_height": null,
      "max_width": null,
      "min_height": null,
      "min_width": null,
      "object_fit": null,
      "object_position": null,
      "order": null,
      "overflow": null,
      "overflow_x": null,
      "overflow_y": null,
      "padding": null,
      "right": null,
      "top": null,
      "visibility": null,
      "width": null
     }
    },
    "ac28aa0ebe09430782526e596b49bc6d": {
     "model_module": "@jupyter-widgets/controls",
     "model_module_version": "1.5.0",
     "model_name": "HTMLModel",
     "state": {
      "_dom_classes": [],
      "_model_module": "@jupyter-widgets/controls",
      "_model_module_version": "1.5.0",
      "_model_name": "HTMLModel",
      "_view_count": null,
      "_view_module": "@jupyter-widgets/controls",
      "_view_module_version": "1.5.0",
      "_view_name": "HTMLView",
      "description": "",
      "description_tooltip": null,
      "layout": "IPY_MODEL_9411e114675146919560e8ed17230076",
      "placeholder": "​",
      "style": "IPY_MODEL_2216de8a43c841b7816ec535be01ac14",
      "value": " 5/5 [01:03&lt;00:00, 12.63s/it]"
     }
    },
    "b24ce8edd32d4839955c1e3ae19cec6f": {
     "model_module": "@jupyter-widgets/base",
     "model_module_version": "1.2.0",
     "model_name": "LayoutModel",
     "state": {
      "_model_module": "@jupyter-widgets/base",
      "_model_module_version": "1.2.0",
      "_model_name": "LayoutModel",
      "_view_count": null,
      "_view_module": "@jupyter-widgets/base",
      "_view_module_version": "1.2.0",
      "_view_name": "LayoutView",
      "align_content": null,
      "align_items": null,
      "align_self": null,
      "border": null,
      "bottom": null,
      "display": null,
      "flex": null,
      "flex_flow": null,
      "grid_area": null,
      "grid_auto_columns": null,
      "grid_auto_flow": null,
      "grid_auto_rows": null,
      "grid_column": null,
      "grid_gap": null,
      "grid_row": null,
      "grid_template_areas": null,
      "grid_template_columns": null,
      "grid_template_rows": null,
      "height": null,
      "justify_content": null,
      "justify_items": null,
      "left": null,
      "margin": null,
      "max_height": null,
      "max_width": null,
      "min_height": null,
      "min_width": null,
      "object_fit": null,
      "object_position": null,
      "order": null,
      "overflow": null,
      "overflow_x": null,
      "overflow_y": null,
      "padding": null,
      "right": null,
      "top": null,
      "visibility": null,
      "width": null
     }
    },
    "c29ddb41cb22447cb67fe37d893bd581": {
     "model_module": "@jupyter-widgets/controls",
     "model_module_version": "1.5.0",
     "model_name": "ProgressStyleModel",
     "state": {
      "_model_module": "@jupyter-widgets/controls",
      "_model_module_version": "1.5.0",
      "_model_name": "ProgressStyleModel",
      "_view_count": null,
      "_view_module": "@jupyter-widgets/base",
      "_view_module_version": "1.2.0",
      "_view_name": "StyleView",
      "bar_color": null,
      "description_width": ""
     }
    },
    "c916a4d81cf042d59aa6d668497c3d3d": {
     "model_module": "@jupyter-widgets/controls",
     "model_module_version": "1.5.0",
     "model_name": "HTMLModel",
     "state": {
      "_dom_classes": [],
      "_model_module": "@jupyter-widgets/controls",
      "_model_module_version": "1.5.0",
      "_model_name": "HTMLModel",
      "_view_count": null,
      "_view_module": "@jupyter-widgets/controls",
      "_view_module_version": "1.5.0",
      "_view_name": "HTMLView",
      "description": "",
      "description_tooltip": null,
      "layout": "IPY_MODEL_731fabb2bdb143cca8f5a97e1ec6b80c",
      "placeholder": "​",
      "style": "IPY_MODEL_7dfb10a12755422f9c8f8504cfcc7613",
      "value": "100%"
     }
    }
   }
  }
 },
 "nbformat": 4,
 "nbformat_minor": 0
}
