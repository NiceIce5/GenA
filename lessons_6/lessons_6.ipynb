{
 "cells": [
  {
   "cell_type": "markdown",
   "metadata": {
    "id": "TJHtT-Nja_hc"
   },
   "source": [
    "**1. Підготовка середовища**"
   ]
  },
  {
   "cell_type": "code",
   "execution_count": 1,
   "metadata": {
    "executionInfo": {
     "elapsed": 453,
     "status": "ok",
     "timestamp": 1734294762888,
     "user": {
      "displayName": "Andrii Melnychenko",
      "userId": "01331969983638300934"
     },
     "user_tz": -120
    },
    "id": "dUrojac2_jXi"
   },
   "outputs": [],
   "source": [
    "# !pip install transformers\n",
    "# !pip install datasets\n",
    "# !pip install bertviz\n",
    "# !pip install umap-learn\n",
    "# !pip install wandb"
   ]
  },
  {
   "cell_type": "code",
   "execution_count": 2,
   "metadata": {
    "executionInfo": {
     "elapsed": 9189,
     "status": "ok",
     "timestamp": 1734294772687,
     "user": {
      "displayName": "Andrii Melnychenko",
      "userId": "01331969983638300934"
     },
     "user_tz": -120
    },
    "id": "Q8tGKQN59roI"
   },
   "outputs": [],
   "source": [
    "import torch\n",
    "import numpy as np\n",
    "import pandas as pd\n",
    "from datasets import load_dataset"
   ]
  },
  {
   "cell_type": "code",
   "execution_count": 3,
   "metadata": {
    "colab": {
     "base_uri": "https://localhost:8080/",
     "height": 36
    },
    "executionInfo": {
     "elapsed": 4,
     "status": "ok",
     "timestamp": 1734294772687,
     "user": {
      "displayName": "Andrii Melnychenko",
      "userId": "01331969983638300934"
     },
     "user_tz": -120
    },
    "id": "e-WdFV-iG30d",
    "outputId": "ea797faf-9a95-491f-abee-a479a62951f3"
   },
   "outputs": [
    {
     "data": {
      "application/vnd.google.colaboratory.intrinsic+json": {
       "type": "string"
      },
      "text/plain": [
       "'cuda'"
      ]
     },
     "execution_count": 3,
     "metadata": {},
     "output_type": "execute_result"
    }
   ],
   "source": [
    "device = \"cuda\" if torch.cuda.is_available() else \"cpu\"\n",
    "device"
   ]
  },
  {
   "cell_type": "code",
   "execution_count": 4,
   "metadata": {
    "executionInfo": {
     "elapsed": 3,
     "status": "ok",
     "timestamp": 1734294772687,
     "user": {
      "displayName": "Andrii Melnychenko",
      "userId": "01331969983638300934"
     },
     "user_tz": -120
    },
    "id": "gv9sm3_hBYp2"
   },
   "outputs": [],
   "source": [
    "# torch.cuda.empty_cache()"
   ]
  },
  {
   "cell_type": "markdown",
   "metadata": {
    "id": "grbeDGMnbHZQ"
   },
   "source": [
    "**2. Вибір попередньо навченої LLM та завантаження набору даних:**"
   ]
  },
  {
   "cell_type": "code",
   "execution_count": 5,
   "metadata": {
    "colab": {
     "base_uri": "https://localhost:8080/"
    },
    "executionInfo": {
     "elapsed": 11130,
     "status": "ok",
     "timestamp": 1734294783814,
     "user": {
      "displayName": "Andrii Melnychenko",
      "userId": "01331969983638300934"
     },
     "user_tz": -120
    },
    "id": "7RMM4vM4-TQA",
    "outputId": "abd25db9-a62c-41cd-b79b-447ccdc2905f"
   },
   "outputs": [
    {
     "name": "stderr",
     "output_type": "stream",
     "text": [
      "/usr/local/lib/python3.10/dist-packages/huggingface_hub/utils/_auth.py:94: UserWarning: \n",
      "The secret `HF_TOKEN` does not exist in your Colab secrets.\n",
      "To authenticate with the Hugging Face Hub, create a token in your settings tab (https://huggingface.co/settings/tokens), set it as secret in your Google Colab and restart your session.\n",
      "You will be able to reuse this secret in all of your notebooks.\n",
      "Please note that authentication is recommended but still optional to access public models or datasets.\n",
      "  warnings.warn(\n"
     ]
    }
   ],
   "source": [
    "from transformers import BertTokenizer, BertModel\n",
    "model_ckpt = 'bert-base-multilingual-uncased'\n",
    "tokenizer = BertTokenizer.from_pretrained(model_ckpt)"
   ]
  },
  {
   "cell_type": "code",
   "execution_count": null,
   "metadata": {
    "executionInfo": {
     "elapsed": 2054,
     "status": "ok",
     "timestamp": 1734294785866,
     "user": {
      "displayName": "Andrii Melnychenko",
      "userId": "01331969983638300934"
     },
     "user_tz": -120
    },
    "id": "JwD8cDgaUUpD"
   },
   "outputs": [],
   "source": [
    "#This is the first of its kind toxicity classification dataset for the Ukrainian language. The datasets was obtained semi-automatically by toxic keywords filtering. \n",
    "dataset = load_dataset(\"ukr-detect/ukr-toxicity-dataset-seminatural\")"
   ]
  },
  {
   "cell_type": "code",
   "execution_count": 7,
   "metadata": {
    "colab": {
     "base_uri": "https://localhost:8080/"
    },
    "executionInfo": {
     "elapsed": 3,
     "status": "ok",
     "timestamp": 1734294785866,
     "user": {
      "displayName": "Andrii Melnychenko",
      "userId": "01331969983638300934"
     },
     "user_tz": -120
    },
    "id": "ICAU3rtlj2Ca",
    "outputId": "7cca50c4-a57f-4dd9-d51b-7f7ad1fe1ebf"
   },
   "outputs": [
    {
     "data": {
      "text/plain": [
       "DatasetDict({\n",
       "    train: Dataset({\n",
       "        features: ['text', 'tags'],\n",
       "        num_rows: 12682\n",
       "    })\n",
       "    validation: Dataset({\n",
       "        features: ['text', 'tags'],\n",
       "        num_rows: 4227\n",
       "    })\n",
       "    test: Dataset({\n",
       "        features: ['text', 'tags'],\n",
       "        num_rows: 4214\n",
       "    })\n",
       "})"
      ]
     },
     "execution_count": 7,
     "metadata": {},
     "output_type": "execute_result"
    }
   ],
   "source": [
    "dataset"
   ]
  },
  {
   "cell_type": "code",
   "execution_count": 8,
   "metadata": {
    "executionInfo": {
     "elapsed": 2,
     "status": "ok",
     "timestamp": 1734294785866,
     "user": {
      "displayName": "Andrii Melnychenko",
      "userId": "01331969983638300934"
     },
     "user_tz": -120
    },
    "id": "meYqGeFweSZs"
   },
   "outputs": [],
   "source": [
    "import math\n",
    "\n",
    "def filter_nulls(example):\n",
    "    return example[\"tags\"] is not None and not math.isnan(example[\"tags\"])\n",
    "\n",
    "dataset = dataset.filter(filter_nulls)\n",
    "\n",
    "def rename_and_convert(example):\n",
    "    example[\"label\"] = int(example[\"tags\"])\n",
    "    return example\n",
    "\n",
    "dataset = dataset.map(rename_and_convert)\n",
    "dataset = dataset.remove_columns(\"tags\")"
   ]
  },
  {
   "cell_type": "code",
   "execution_count": 9,
   "metadata": {
    "executionInfo": {
     "elapsed": 2,
     "status": "ok",
     "timestamp": 1734294785866,
     "user": {
      "displayName": "Andrii Melnychenko",
      "userId": "01331969983638300934"
     },
     "user_tz": -120
    },
    "id": "mJg6jXkNm0K4"
   },
   "outputs": [],
   "source": [
    "df = pd.DataFrame(dataset['train'][:])"
   ]
  },
  {
   "cell_type": "code",
   "execution_count": 10,
   "metadata": {
    "colab": {
     "base_uri": "https://localhost:8080/",
     "height": 423
    },
    "executionInfo": {
     "elapsed": 250,
     "status": "ok",
     "timestamp": 1734294786114,
     "user": {
      "displayName": "Andrii Melnychenko",
      "userId": "01331969983638300934"
     },
     "user_tz": -120
    },
    "id": "2KmOJDaumKO5",
    "outputId": "a62a0f4b-1755-4a6b-b377-cd2a33910d70"
   },
   "outputs": [
    {
     "data": {
      "application/vnd.google.colaboratory.intrinsic+json": {
       "summary": "{\n  \"name\": \"df\",\n  \"rows\": 12606,\n  \"fields\": [\n    {\n      \"column\": \"text\",\n      \"properties\": {\n        \"dtype\": \"string\",\n        \"num_unique_values\": 12574,\n        \"samples\": [\n          \"\\u0456\\u0434\\u0456\\u0442\\u044c \\u0457\\u0431\\u0430\\u0442\\u0438\\u0441\\u044f.\",\n          \"\\u0434\\u0438\\u0432\\u0438\\u043c\\u043e\\u0441\\u044f \\\"\\u0445\\u043c\\u0430\\u0440\\u043d\\u0438\\u0439 \\u0430\\u0442\\u043b\\u0430\\u0441\\\" \\u043d\\u0430 \\u0442\\u0435\\u0449\\u0438\\u043d\\u043e\\u043c\\u0443 \\u0456\\u043f\\u0435\\u0434\\u0438\\u043a\\u0443 (\\u0432 \\u043a\\u0430\\u0434\\u0440\\u0456: \\u043c\\u043e\\u0454 \\u0436\\u043e\\u0432\\u0442\\u0435 \\u043f\\u0443\\u0437\\u043e \\u0456 \\u043a\\u0441\\u0435\\u043d\\u044f \\u0433\\u0430 \\u043d\\u043e\\u0440\\u0434-\\u043d\\u043e\\u0440\\u0434\\u043e\\u0441\\u0442 :) #\\u0431\\u0443\\u0434\\u043d\\u0456\\u043c\\u0430\\u0436\\u043e\\u0440\\u0456\\u0432pic.twitter.com/onvjwu8a\",\n          \"\\u0434\\u0440\\u0443\\u0433\\u0435 \\u0441\\u043b\\u043e\\u0432\\u043e \\u0442\\u043e \\u0433\\u0435\\u0439 \\u043f\\u0456\\u0434\\u043e\\u0440 \\u043f\\u0435\\u0434\\u0456\\u043a?\"\n        ],\n        \"semantic_type\": \"\",\n        \"description\": \"\"\n      }\n    },\n    {\n      \"column\": \"label\",\n      \"properties\": {\n        \"dtype\": \"number\",\n        \"std\": 0,\n        \"min\": 0,\n        \"max\": 1,\n        \"num_unique_values\": 2,\n        \"samples\": [\n          0,\n          1\n        ],\n        \"semantic_type\": \"\",\n        \"description\": \"\"\n      }\n    }\n  ]\n}",
       "type": "dataframe",
       "variable_name": "df"
      },
      "text/html": [
       "\n",
       "  <div id=\"df-a50a7dcd-3f78-46ee-a050-d10561e45e6c\" class=\"colab-df-container\">\n",
       "    <div>\n",
       "<style scoped>\n",
       "    .dataframe tbody tr th:only-of-type {\n",
       "        vertical-align: middle;\n",
       "    }\n",
       "\n",
       "    .dataframe tbody tr th {\n",
       "        vertical-align: top;\n",
       "    }\n",
       "\n",
       "    .dataframe thead th {\n",
       "        text-align: right;\n",
       "    }\n",
       "</style>\n",
       "<table border=\"1\" class=\"dataframe\">\n",
       "  <thead>\n",
       "    <tr style=\"text-align: right;\">\n",
       "      <th></th>\n",
       "      <th>text</th>\n",
       "      <th>label</th>\n",
       "    </tr>\n",
       "  </thead>\n",
       "  <tbody>\n",
       "    <tr>\n",
       "      <th>0</th>\n",
       "      <td>тут посони не знають нічого про лєщєнко, #меді...</td>\n",
       "      <td>1</td>\n",
       "    </tr>\n",
       "    <tr>\n",
       "      <th>1</th>\n",
       "      <td>як казав мій дід:\"позакривали пиздаки\"</td>\n",
       "      <td>1</td>\n",
       "    </tr>\n",
       "    <tr>\n",
       "      <th>2</th>\n",
       "      <td>Не покидає відчуття, що щось я зробила не так....</td>\n",
       "      <td>0</td>\n",
       "    </tr>\n",
       "    <tr>\n",
       "      <th>3</th>\n",
       "      <td>— Сідай !</td>\n",
       "      <td>0</td>\n",
       "    </tr>\n",
       "    <tr>\n",
       "      <th>4</th>\n",
       "      <td>Чистка грибів - справа сімейнаpic.twitter.com/...</td>\n",
       "      <td>0</td>\n",
       "    </tr>\n",
       "    <tr>\n",
       "      <th>...</th>\n",
       "      <td>...</td>\n",
       "      <td>...</td>\n",
       "    </tr>\n",
       "    <tr>\n",
       "      <th>12601</th>\n",
       "      <td>— Чула , серденько , чула ...</td>\n",
       "      <td>0</td>\n",
       "    </tr>\n",
       "    <tr>\n",
       "      <th>12602</th>\n",
       "      <td>Із цим поняттям ви вже стикалися .</td>\n",
       "      <td>0</td>\n",
       "    </tr>\n",
       "    <tr>\n",
       "      <th>12603</th>\n",
       "      <td>колись я відпиздила однокласника іграшковим по...</td>\n",
       "      <td>1</td>\n",
       "    </tr>\n",
       "    <tr>\n",
       "      <th>12604</th>\n",
       "      <td>also, ті \"люди старшого віку\" ніхуя в своєму ж...</td>\n",
       "      <td>1</td>\n",
       "    </tr>\n",
       "    <tr>\n",
       "      <th>12605</th>\n",
       "      <td>Чим відрізняється залік від іспиту ?</td>\n",
       "      <td>0</td>\n",
       "    </tr>\n",
       "  </tbody>\n",
       "</table>\n",
       "<p>12606 rows × 2 columns</p>\n",
       "</div>\n",
       "    <div class=\"colab-df-buttons\">\n",
       "\n",
       "  <div class=\"colab-df-container\">\n",
       "    <button class=\"colab-df-convert\" onclick=\"convertToInteractive('df-a50a7dcd-3f78-46ee-a050-d10561e45e6c')\"\n",
       "            title=\"Convert this dataframe to an interactive table.\"\n",
       "            style=\"display:none;\">\n",
       "\n",
       "  <svg xmlns=\"http://www.w3.org/2000/svg\" height=\"24px\" viewBox=\"0 -960 960 960\">\n",
       "    <path d=\"M120-120v-720h720v720H120Zm60-500h600v-160H180v160Zm220 220h160v-160H400v160Zm0 220h160v-160H400v160ZM180-400h160v-160H180v160Zm440 0h160v-160H620v160ZM180-180h160v-160H180v160Zm440 0h160v-160H620v160Z\"/>\n",
       "  </svg>\n",
       "    </button>\n",
       "\n",
       "  <style>\n",
       "    .colab-df-container {\n",
       "      display:flex;\n",
       "      gap: 12px;\n",
       "    }\n",
       "\n",
       "    .colab-df-convert {\n",
       "      background-color: #E8F0FE;\n",
       "      border: none;\n",
       "      border-radius: 50%;\n",
       "      cursor: pointer;\n",
       "      display: none;\n",
       "      fill: #1967D2;\n",
       "      height: 32px;\n",
       "      padding: 0 0 0 0;\n",
       "      width: 32px;\n",
       "    }\n",
       "\n",
       "    .colab-df-convert:hover {\n",
       "      background-color: #E2EBFA;\n",
       "      box-shadow: 0px 1px 2px rgba(60, 64, 67, 0.3), 0px 1px 3px 1px rgba(60, 64, 67, 0.15);\n",
       "      fill: #174EA6;\n",
       "    }\n",
       "\n",
       "    .colab-df-buttons div {\n",
       "      margin-bottom: 4px;\n",
       "    }\n",
       "\n",
       "    [theme=dark] .colab-df-convert {\n",
       "      background-color: #3B4455;\n",
       "      fill: #D2E3FC;\n",
       "    }\n",
       "\n",
       "    [theme=dark] .colab-df-convert:hover {\n",
       "      background-color: #434B5C;\n",
       "      box-shadow: 0px 1px 3px 1px rgba(0, 0, 0, 0.15);\n",
       "      filter: drop-shadow(0px 1px 2px rgba(0, 0, 0, 0.3));\n",
       "      fill: #FFFFFF;\n",
       "    }\n",
       "  </style>\n",
       "\n",
       "    <script>\n",
       "      const buttonEl =\n",
       "        document.querySelector('#df-a50a7dcd-3f78-46ee-a050-d10561e45e6c button.colab-df-convert');\n",
       "      buttonEl.style.display =\n",
       "        google.colab.kernel.accessAllowed ? 'block' : 'none';\n",
       "\n",
       "      async function convertToInteractive(key) {\n",
       "        const element = document.querySelector('#df-a50a7dcd-3f78-46ee-a050-d10561e45e6c');\n",
       "        const dataTable =\n",
       "          await google.colab.kernel.invokeFunction('convertToInteractive',\n",
       "                                                    [key], {});\n",
       "        if (!dataTable) return;\n",
       "\n",
       "        const docLinkHtml = 'Like what you see? Visit the ' +\n",
       "          '<a target=\"_blank\" href=https://colab.research.google.com/notebooks/data_table.ipynb>data table notebook</a>'\n",
       "          + ' to learn more about interactive tables.';\n",
       "        element.innerHTML = '';\n",
       "        dataTable['output_type'] = 'display_data';\n",
       "        await google.colab.output.renderOutput(dataTable, element);\n",
       "        const docLink = document.createElement('div');\n",
       "        docLink.innerHTML = docLinkHtml;\n",
       "        element.appendChild(docLink);\n",
       "      }\n",
       "    </script>\n",
       "  </div>\n",
       "\n",
       "\n",
       "<div id=\"df-8bdb00e9-9d34-41b6-a5fc-548303df2a5b\">\n",
       "  <button class=\"colab-df-quickchart\" onclick=\"quickchart('df-8bdb00e9-9d34-41b6-a5fc-548303df2a5b')\"\n",
       "            title=\"Suggest charts\"\n",
       "            style=\"display:none;\">\n",
       "\n",
       "<svg xmlns=\"http://www.w3.org/2000/svg\" height=\"24px\"viewBox=\"0 0 24 24\"\n",
       "     width=\"24px\">\n",
       "    <g>\n",
       "        <path d=\"M19 3H5c-1.1 0-2 .9-2 2v14c0 1.1.9 2 2 2h14c1.1 0 2-.9 2-2V5c0-1.1-.9-2-2-2zM9 17H7v-7h2v7zm4 0h-2V7h2v10zm4 0h-2v-4h2v4z\"/>\n",
       "    </g>\n",
       "</svg>\n",
       "  </button>\n",
       "\n",
       "<style>\n",
       "  .colab-df-quickchart {\n",
       "      --bg-color: #E8F0FE;\n",
       "      --fill-color: #1967D2;\n",
       "      --hover-bg-color: #E2EBFA;\n",
       "      --hover-fill-color: #174EA6;\n",
       "      --disabled-fill-color: #AAA;\n",
       "      --disabled-bg-color: #DDD;\n",
       "  }\n",
       "\n",
       "  [theme=dark] .colab-df-quickchart {\n",
       "      --bg-color: #3B4455;\n",
       "      --fill-color: #D2E3FC;\n",
       "      --hover-bg-color: #434B5C;\n",
       "      --hover-fill-color: #FFFFFF;\n",
       "      --disabled-bg-color: #3B4455;\n",
       "      --disabled-fill-color: #666;\n",
       "  }\n",
       "\n",
       "  .colab-df-quickchart {\n",
       "    background-color: var(--bg-color);\n",
       "    border: none;\n",
       "    border-radius: 50%;\n",
       "    cursor: pointer;\n",
       "    display: none;\n",
       "    fill: var(--fill-color);\n",
       "    height: 32px;\n",
       "    padding: 0;\n",
       "    width: 32px;\n",
       "  }\n",
       "\n",
       "  .colab-df-quickchart:hover {\n",
       "    background-color: var(--hover-bg-color);\n",
       "    box-shadow: 0 1px 2px rgba(60, 64, 67, 0.3), 0 1px 3px 1px rgba(60, 64, 67, 0.15);\n",
       "    fill: var(--button-hover-fill-color);\n",
       "  }\n",
       "\n",
       "  .colab-df-quickchart-complete:disabled,\n",
       "  .colab-df-quickchart-complete:disabled:hover {\n",
       "    background-color: var(--disabled-bg-color);\n",
       "    fill: var(--disabled-fill-color);\n",
       "    box-shadow: none;\n",
       "  }\n",
       "\n",
       "  .colab-df-spinner {\n",
       "    border: 2px solid var(--fill-color);\n",
       "    border-color: transparent;\n",
       "    border-bottom-color: var(--fill-color);\n",
       "    animation:\n",
       "      spin 1s steps(1) infinite;\n",
       "  }\n",
       "\n",
       "  @keyframes spin {\n",
       "    0% {\n",
       "      border-color: transparent;\n",
       "      border-bottom-color: var(--fill-color);\n",
       "      border-left-color: var(--fill-color);\n",
       "    }\n",
       "    20% {\n",
       "      border-color: transparent;\n",
       "      border-left-color: var(--fill-color);\n",
       "      border-top-color: var(--fill-color);\n",
       "    }\n",
       "    30% {\n",
       "      border-color: transparent;\n",
       "      border-left-color: var(--fill-color);\n",
       "      border-top-color: var(--fill-color);\n",
       "      border-right-color: var(--fill-color);\n",
       "    }\n",
       "    40% {\n",
       "      border-color: transparent;\n",
       "      border-right-color: var(--fill-color);\n",
       "      border-top-color: var(--fill-color);\n",
       "    }\n",
       "    60% {\n",
       "      border-color: transparent;\n",
       "      border-right-color: var(--fill-color);\n",
       "    }\n",
       "    80% {\n",
       "      border-color: transparent;\n",
       "      border-right-color: var(--fill-color);\n",
       "      border-bottom-color: var(--fill-color);\n",
       "    }\n",
       "    90% {\n",
       "      border-color: transparent;\n",
       "      border-bottom-color: var(--fill-color);\n",
       "    }\n",
       "  }\n",
       "</style>\n",
       "\n",
       "  <script>\n",
       "    async function quickchart(key) {\n",
       "      const quickchartButtonEl =\n",
       "        document.querySelector('#' + key + ' button');\n",
       "      quickchartButtonEl.disabled = true;  // To prevent multiple clicks.\n",
       "      quickchartButtonEl.classList.add('colab-df-spinner');\n",
       "      try {\n",
       "        const charts = await google.colab.kernel.invokeFunction(\n",
       "            'suggestCharts', [key], {});\n",
       "      } catch (error) {\n",
       "        console.error('Error during call to suggestCharts:', error);\n",
       "      }\n",
       "      quickchartButtonEl.classList.remove('colab-df-spinner');\n",
       "      quickchartButtonEl.classList.add('colab-df-quickchart-complete');\n",
       "    }\n",
       "    (() => {\n",
       "      let quickchartButtonEl =\n",
       "        document.querySelector('#df-8bdb00e9-9d34-41b6-a5fc-548303df2a5b button');\n",
       "      quickchartButtonEl.style.display =\n",
       "        google.colab.kernel.accessAllowed ? 'block' : 'none';\n",
       "    })();\n",
       "  </script>\n",
       "</div>\n",
       "    </div>\n",
       "  </div>\n"
      ],
      "text/plain": [
       "                                                    text  label\n",
       "0      тут посони не знають нічого про лєщєнко, #меді...      1\n",
       "1                 як казав мій дід:\"позакривали пиздаки\"      1\n",
       "2      Не покидає відчуття, що щось я зробила не так....      0\n",
       "3                                              — Сідай !      0\n",
       "4      Чистка грибів - справа сімейнаpic.twitter.com/...      0\n",
       "...                                                  ...    ...\n",
       "12601                      — Чула , серденько , чула ...      0\n",
       "12602                 Із цим поняттям ви вже стикалися .      0\n",
       "12603  колись я відпиздила однокласника іграшковим по...      1\n",
       "12604  also, ті \"люди старшого віку\" ніхуя в своєму ж...      1\n",
       "12605               Чим відрізняється залік від іспиту ?      0\n",
       "\n",
       "[12606 rows x 2 columns]"
      ]
     },
     "execution_count": 10,
     "metadata": {},
     "output_type": "execute_result"
    }
   ],
   "source": [
    "df"
   ]
  },
  {
   "cell_type": "code",
   "execution_count": 11,
   "metadata": {
    "executionInfo": {
     "elapsed": 3,
     "status": "ok",
     "timestamp": 1734294786114,
     "user": {
      "displayName": "Andrii Melnychenko",
      "userId": "01331969983638300934"
     },
     "user_tz": -120
    },
    "id": "aAVZiSSPzWHN"
   },
   "outputs": [],
   "source": [
    "df['label_tags'] = df['label'].apply(lambda x: 'toxic' if x==1 else 'non-toxic')"
   ]
  },
  {
   "cell_type": "code",
   "execution_count": 12,
   "metadata": {
    "colab": {
     "base_uri": "https://localhost:8080/",
     "height": 423
    },
    "executionInfo": {
     "elapsed": 350,
     "status": "ok",
     "timestamp": 1734294786461,
     "user": {
      "displayName": "Andrii Melnychenko",
      "userId": "01331969983638300934"
     },
     "user_tz": -120
    },
    "id": "UZA-mNqaATe3",
    "outputId": "46aa8953-dfd4-442c-b1e8-26c34081eb44"
   },
   "outputs": [
    {
     "data": {
      "application/vnd.google.colaboratory.intrinsic+json": {
       "summary": "{\n  \"name\": \"df\",\n  \"rows\": 12606,\n  \"fields\": [\n    {\n      \"column\": \"text\",\n      \"properties\": {\n        \"dtype\": \"string\",\n        \"num_unique_values\": 12574,\n        \"samples\": [\n          \"\\u0456\\u0434\\u0456\\u0442\\u044c \\u0457\\u0431\\u0430\\u0442\\u0438\\u0441\\u044f.\",\n          \"\\u0434\\u0438\\u0432\\u0438\\u043c\\u043e\\u0441\\u044f \\\"\\u0445\\u043c\\u0430\\u0440\\u043d\\u0438\\u0439 \\u0430\\u0442\\u043b\\u0430\\u0441\\\" \\u043d\\u0430 \\u0442\\u0435\\u0449\\u0438\\u043d\\u043e\\u043c\\u0443 \\u0456\\u043f\\u0435\\u0434\\u0438\\u043a\\u0443 (\\u0432 \\u043a\\u0430\\u0434\\u0440\\u0456: \\u043c\\u043e\\u0454 \\u0436\\u043e\\u0432\\u0442\\u0435 \\u043f\\u0443\\u0437\\u043e \\u0456 \\u043a\\u0441\\u0435\\u043d\\u044f \\u0433\\u0430 \\u043d\\u043e\\u0440\\u0434-\\u043d\\u043e\\u0440\\u0434\\u043e\\u0441\\u0442 :) #\\u0431\\u0443\\u0434\\u043d\\u0456\\u043c\\u0430\\u0436\\u043e\\u0440\\u0456\\u0432pic.twitter.com/onvjwu8a\",\n          \"\\u0434\\u0440\\u0443\\u0433\\u0435 \\u0441\\u043b\\u043e\\u0432\\u043e \\u0442\\u043e \\u0433\\u0435\\u0439 \\u043f\\u0456\\u0434\\u043e\\u0440 \\u043f\\u0435\\u0434\\u0456\\u043a?\"\n        ],\n        \"semantic_type\": \"\",\n        \"description\": \"\"\n      }\n    },\n    {\n      \"column\": \"label\",\n      \"properties\": {\n        \"dtype\": \"number\",\n        \"std\": 0,\n        \"min\": 0,\n        \"max\": 1,\n        \"num_unique_values\": 2,\n        \"samples\": [\n          0,\n          1\n        ],\n        \"semantic_type\": \"\",\n        \"description\": \"\"\n      }\n    },\n    {\n      \"column\": \"label_tags\",\n      \"properties\": {\n        \"dtype\": \"category\",\n        \"num_unique_values\": 2,\n        \"samples\": [\n          \"non-toxic\",\n          \"toxic\"\n        ],\n        \"semantic_type\": \"\",\n        \"description\": \"\"\n      }\n    }\n  ]\n}",
       "type": "dataframe",
       "variable_name": "df"
      },
      "text/html": [
       "\n",
       "  <div id=\"df-4e7aeba1-35b8-452f-85f2-c1b589862479\" class=\"colab-df-container\">\n",
       "    <div>\n",
       "<style scoped>\n",
       "    .dataframe tbody tr th:only-of-type {\n",
       "        vertical-align: middle;\n",
       "    }\n",
       "\n",
       "    .dataframe tbody tr th {\n",
       "        vertical-align: top;\n",
       "    }\n",
       "\n",
       "    .dataframe thead th {\n",
       "        text-align: right;\n",
       "    }\n",
       "</style>\n",
       "<table border=\"1\" class=\"dataframe\">\n",
       "  <thead>\n",
       "    <tr style=\"text-align: right;\">\n",
       "      <th></th>\n",
       "      <th>text</th>\n",
       "      <th>label</th>\n",
       "      <th>label_tags</th>\n",
       "    </tr>\n",
       "  </thead>\n",
       "  <tbody>\n",
       "    <tr>\n",
       "      <th>0</th>\n",
       "      <td>тут посони не знають нічого про лєщєнко, #меді...</td>\n",
       "      <td>1</td>\n",
       "      <td>toxic</td>\n",
       "    </tr>\n",
       "    <tr>\n",
       "      <th>1</th>\n",
       "      <td>як казав мій дід:\"позакривали пиздаки\"</td>\n",
       "      <td>1</td>\n",
       "      <td>toxic</td>\n",
       "    </tr>\n",
       "    <tr>\n",
       "      <th>2</th>\n",
       "      <td>Не покидає відчуття, що щось я зробила не так....</td>\n",
       "      <td>0</td>\n",
       "      <td>non-toxic</td>\n",
       "    </tr>\n",
       "    <tr>\n",
       "      <th>3</th>\n",
       "      <td>— Сідай !</td>\n",
       "      <td>0</td>\n",
       "      <td>non-toxic</td>\n",
       "    </tr>\n",
       "    <tr>\n",
       "      <th>4</th>\n",
       "      <td>Чистка грибів - справа сімейнаpic.twitter.com/...</td>\n",
       "      <td>0</td>\n",
       "      <td>non-toxic</td>\n",
       "    </tr>\n",
       "    <tr>\n",
       "      <th>...</th>\n",
       "      <td>...</td>\n",
       "      <td>...</td>\n",
       "      <td>...</td>\n",
       "    </tr>\n",
       "    <tr>\n",
       "      <th>12601</th>\n",
       "      <td>— Чула , серденько , чула ...</td>\n",
       "      <td>0</td>\n",
       "      <td>non-toxic</td>\n",
       "    </tr>\n",
       "    <tr>\n",
       "      <th>12602</th>\n",
       "      <td>Із цим поняттям ви вже стикалися .</td>\n",
       "      <td>0</td>\n",
       "      <td>non-toxic</td>\n",
       "    </tr>\n",
       "    <tr>\n",
       "      <th>12603</th>\n",
       "      <td>колись я відпиздила однокласника іграшковим по...</td>\n",
       "      <td>1</td>\n",
       "      <td>toxic</td>\n",
       "    </tr>\n",
       "    <tr>\n",
       "      <th>12604</th>\n",
       "      <td>also, ті \"люди старшого віку\" ніхуя в своєму ж...</td>\n",
       "      <td>1</td>\n",
       "      <td>toxic</td>\n",
       "    </tr>\n",
       "    <tr>\n",
       "      <th>12605</th>\n",
       "      <td>Чим відрізняється залік від іспиту ?</td>\n",
       "      <td>0</td>\n",
       "      <td>non-toxic</td>\n",
       "    </tr>\n",
       "  </tbody>\n",
       "</table>\n",
       "<p>12606 rows × 3 columns</p>\n",
       "</div>\n",
       "    <div class=\"colab-df-buttons\">\n",
       "\n",
       "  <div class=\"colab-df-container\">\n",
       "    <button class=\"colab-df-convert\" onclick=\"convertToInteractive('df-4e7aeba1-35b8-452f-85f2-c1b589862479')\"\n",
       "            title=\"Convert this dataframe to an interactive table.\"\n",
       "            style=\"display:none;\">\n",
       "\n",
       "  <svg xmlns=\"http://www.w3.org/2000/svg\" height=\"24px\" viewBox=\"0 -960 960 960\">\n",
       "    <path d=\"M120-120v-720h720v720H120Zm60-500h600v-160H180v160Zm220 220h160v-160H400v160Zm0 220h160v-160H400v160ZM180-400h160v-160H180v160Zm440 0h160v-160H620v160ZM180-180h160v-160H180v160Zm440 0h160v-160H620v160Z\"/>\n",
       "  </svg>\n",
       "    </button>\n",
       "\n",
       "  <style>\n",
       "    .colab-df-container {\n",
       "      display:flex;\n",
       "      gap: 12px;\n",
       "    }\n",
       "\n",
       "    .colab-df-convert {\n",
       "      background-color: #E8F0FE;\n",
       "      border: none;\n",
       "      border-radius: 50%;\n",
       "      cursor: pointer;\n",
       "      display: none;\n",
       "      fill: #1967D2;\n",
       "      height: 32px;\n",
       "      padding: 0 0 0 0;\n",
       "      width: 32px;\n",
       "    }\n",
       "\n",
       "    .colab-df-convert:hover {\n",
       "      background-color: #E2EBFA;\n",
       "      box-shadow: 0px 1px 2px rgba(60, 64, 67, 0.3), 0px 1px 3px 1px rgba(60, 64, 67, 0.15);\n",
       "      fill: #174EA6;\n",
       "    }\n",
       "\n",
       "    .colab-df-buttons div {\n",
       "      margin-bottom: 4px;\n",
       "    }\n",
       "\n",
       "    [theme=dark] .colab-df-convert {\n",
       "      background-color: #3B4455;\n",
       "      fill: #D2E3FC;\n",
       "    }\n",
       "\n",
       "    [theme=dark] .colab-df-convert:hover {\n",
       "      background-color: #434B5C;\n",
       "      box-shadow: 0px 1px 3px 1px rgba(0, 0, 0, 0.15);\n",
       "      filter: drop-shadow(0px 1px 2px rgba(0, 0, 0, 0.3));\n",
       "      fill: #FFFFFF;\n",
       "    }\n",
       "  </style>\n",
       "\n",
       "    <script>\n",
       "      const buttonEl =\n",
       "        document.querySelector('#df-4e7aeba1-35b8-452f-85f2-c1b589862479 button.colab-df-convert');\n",
       "      buttonEl.style.display =\n",
       "        google.colab.kernel.accessAllowed ? 'block' : 'none';\n",
       "\n",
       "      async function convertToInteractive(key) {\n",
       "        const element = document.querySelector('#df-4e7aeba1-35b8-452f-85f2-c1b589862479');\n",
       "        const dataTable =\n",
       "          await google.colab.kernel.invokeFunction('convertToInteractive',\n",
       "                                                    [key], {});\n",
       "        if (!dataTable) return;\n",
       "\n",
       "        const docLinkHtml = 'Like what you see? Visit the ' +\n",
       "          '<a target=\"_blank\" href=https://colab.research.google.com/notebooks/data_table.ipynb>data table notebook</a>'\n",
       "          + ' to learn more about interactive tables.';\n",
       "        element.innerHTML = '';\n",
       "        dataTable['output_type'] = 'display_data';\n",
       "        await google.colab.output.renderOutput(dataTable, element);\n",
       "        const docLink = document.createElement('div');\n",
       "        docLink.innerHTML = docLinkHtml;\n",
       "        element.appendChild(docLink);\n",
       "      }\n",
       "    </script>\n",
       "  </div>\n",
       "\n",
       "\n",
       "<div id=\"df-66478bbf-ceb6-44e4-a0c7-1cb5373e99d9\">\n",
       "  <button class=\"colab-df-quickchart\" onclick=\"quickchart('df-66478bbf-ceb6-44e4-a0c7-1cb5373e99d9')\"\n",
       "            title=\"Suggest charts\"\n",
       "            style=\"display:none;\">\n",
       "\n",
       "<svg xmlns=\"http://www.w3.org/2000/svg\" height=\"24px\"viewBox=\"0 0 24 24\"\n",
       "     width=\"24px\">\n",
       "    <g>\n",
       "        <path d=\"M19 3H5c-1.1 0-2 .9-2 2v14c0 1.1.9 2 2 2h14c1.1 0 2-.9 2-2V5c0-1.1-.9-2-2-2zM9 17H7v-7h2v7zm4 0h-2V7h2v10zm4 0h-2v-4h2v4z\"/>\n",
       "    </g>\n",
       "</svg>\n",
       "  </button>\n",
       "\n",
       "<style>\n",
       "  .colab-df-quickchart {\n",
       "      --bg-color: #E8F0FE;\n",
       "      --fill-color: #1967D2;\n",
       "      --hover-bg-color: #E2EBFA;\n",
       "      --hover-fill-color: #174EA6;\n",
       "      --disabled-fill-color: #AAA;\n",
       "      --disabled-bg-color: #DDD;\n",
       "  }\n",
       "\n",
       "  [theme=dark] .colab-df-quickchart {\n",
       "      --bg-color: #3B4455;\n",
       "      --fill-color: #D2E3FC;\n",
       "      --hover-bg-color: #434B5C;\n",
       "      --hover-fill-color: #FFFFFF;\n",
       "      --disabled-bg-color: #3B4455;\n",
       "      --disabled-fill-color: #666;\n",
       "  }\n",
       "\n",
       "  .colab-df-quickchart {\n",
       "    background-color: var(--bg-color);\n",
       "    border: none;\n",
       "    border-radius: 50%;\n",
       "    cursor: pointer;\n",
       "    display: none;\n",
       "    fill: var(--fill-color);\n",
       "    height: 32px;\n",
       "    padding: 0;\n",
       "    width: 32px;\n",
       "  }\n",
       "\n",
       "  .colab-df-quickchart:hover {\n",
       "    background-color: var(--hover-bg-color);\n",
       "    box-shadow: 0 1px 2px rgba(60, 64, 67, 0.3), 0 1px 3px 1px rgba(60, 64, 67, 0.15);\n",
       "    fill: var(--button-hover-fill-color);\n",
       "  }\n",
       "\n",
       "  .colab-df-quickchart-complete:disabled,\n",
       "  .colab-df-quickchart-complete:disabled:hover {\n",
       "    background-color: var(--disabled-bg-color);\n",
       "    fill: var(--disabled-fill-color);\n",
       "    box-shadow: none;\n",
       "  }\n",
       "\n",
       "  .colab-df-spinner {\n",
       "    border: 2px solid var(--fill-color);\n",
       "    border-color: transparent;\n",
       "    border-bottom-color: var(--fill-color);\n",
       "    animation:\n",
       "      spin 1s steps(1) infinite;\n",
       "  }\n",
       "\n",
       "  @keyframes spin {\n",
       "    0% {\n",
       "      border-color: transparent;\n",
       "      border-bottom-color: var(--fill-color);\n",
       "      border-left-color: var(--fill-color);\n",
       "    }\n",
       "    20% {\n",
       "      border-color: transparent;\n",
       "      border-left-color: var(--fill-color);\n",
       "      border-top-color: var(--fill-color);\n",
       "    }\n",
       "    30% {\n",
       "      border-color: transparent;\n",
       "      border-left-color: var(--fill-color);\n",
       "      border-top-color: var(--fill-color);\n",
       "      border-right-color: var(--fill-color);\n",
       "    }\n",
       "    40% {\n",
       "      border-color: transparent;\n",
       "      border-right-color: var(--fill-color);\n",
       "      border-top-color: var(--fill-color);\n",
       "    }\n",
       "    60% {\n",
       "      border-color: transparent;\n",
       "      border-right-color: var(--fill-color);\n",
       "    }\n",
       "    80% {\n",
       "      border-color: transparent;\n",
       "      border-right-color: var(--fill-color);\n",
       "      border-bottom-color: var(--fill-color);\n",
       "    }\n",
       "    90% {\n",
       "      border-color: transparent;\n",
       "      border-bottom-color: var(--fill-color);\n",
       "    }\n",
       "  }\n",
       "</style>\n",
       "\n",
       "  <script>\n",
       "    async function quickchart(key) {\n",
       "      const quickchartButtonEl =\n",
       "        document.querySelector('#' + key + ' button');\n",
       "      quickchartButtonEl.disabled = true;  // To prevent multiple clicks.\n",
       "      quickchartButtonEl.classList.add('colab-df-spinner');\n",
       "      try {\n",
       "        const charts = await google.colab.kernel.invokeFunction(\n",
       "            'suggestCharts', [key], {});\n",
       "      } catch (error) {\n",
       "        console.error('Error during call to suggestCharts:', error);\n",
       "      }\n",
       "      quickchartButtonEl.classList.remove('colab-df-spinner');\n",
       "      quickchartButtonEl.classList.add('colab-df-quickchart-complete');\n",
       "    }\n",
       "    (() => {\n",
       "      let quickchartButtonEl =\n",
       "        document.querySelector('#df-66478bbf-ceb6-44e4-a0c7-1cb5373e99d9 button');\n",
       "      quickchartButtonEl.style.display =\n",
       "        google.colab.kernel.accessAllowed ? 'block' : 'none';\n",
       "    })();\n",
       "  </script>\n",
       "</div>\n",
       "    </div>\n",
       "  </div>\n"
      ],
      "text/plain": [
       "                                                    text  label label_tags\n",
       "0      тут посони не знають нічого про лєщєнко, #меді...      1      toxic\n",
       "1                 як казав мій дід:\"позакривали пиздаки\"      1      toxic\n",
       "2      Не покидає відчуття, що щось я зробила не так....      0  non-toxic\n",
       "3                                              — Сідай !      0  non-toxic\n",
       "4      Чистка грибів - справа сімейнаpic.twitter.com/...      0  non-toxic\n",
       "...                                                  ...    ...        ...\n",
       "12601                      — Чула , серденько , чула ...      0  non-toxic\n",
       "12602                 Із цим поняттям ви вже стикалися .      0  non-toxic\n",
       "12603  колись я відпиздила однокласника іграшковим по...      1      toxic\n",
       "12604  also, ті \"люди старшого віку\" ніхуя в своєму ж...      1      toxic\n",
       "12605               Чим відрізняється залік від іспиту ?      0  non-toxic\n",
       "\n",
       "[12606 rows x 3 columns]"
      ]
     },
     "execution_count": 12,
     "metadata": {},
     "output_type": "execute_result"
    }
   ],
   "source": [
    "df"
   ]
  },
  {
   "cell_type": "code",
   "execution_count": 13,
   "metadata": {
    "colab": {
     "base_uri": "https://localhost:8080/"
    },
    "executionInfo": {
     "elapsed": 5,
     "status": "ok",
     "timestamp": 1734294786461,
     "user": {
      "displayName": "Andrii Melnychenko",
      "userId": "01331969983638300934"
     },
     "user_tz": -120
    },
    "id": "Q2kztG4ezoHW",
    "outputId": "7b3389bd-1f0d-4724-f651-f48cf3730783"
   },
   "outputs": [
    {
     "data": {
      "text/plain": [
       "['non-toxic', 'toxic']"
      ]
     },
     "execution_count": 13,
     "metadata": {},
     "output_type": "execute_result"
    }
   ],
   "source": [
    "classes = df['label_tags'].unique().tolist()\n",
    "classes[0], classes[1] = classes[1], classes[0]\n",
    "classes"
   ]
  },
  {
   "cell_type": "markdown",
   "metadata": {
    "id": "ZB04VzRobUHs"
   },
   "source": [
    "**3.Попередня обробка даних**"
   ]
  },
  {
   "cell_type": "code",
   "execution_count": 14,
   "metadata": {
    "executionInfo": {
     "elapsed": 10529,
     "status": "ok",
     "timestamp": 1734294796987,
     "user": {
      "displayName": "Andrii Melnychenko",
      "userId": "01331969983638300934"
     },
     "user_tz": -120
    },
    "id": "wMEKin1eaxFm"
   },
   "outputs": [],
   "source": [
    "# Функція для токенізації\n",
    "def tokenize_function(examples):\n",
    "    return tokenizer(examples['text'], padding=True, truncation=True)\n",
    "\n",
    "# Токенізація датасету\n",
    "tokenized_datasets = dataset.map(tokenize_function, batched=True, batch_size=None)"
   ]
  },
  {
   "cell_type": "code",
   "execution_count": 15,
   "metadata": {
    "colab": {
     "base_uri": "https://localhost:8080/"
    },
    "executionInfo": {
     "elapsed": 3,
     "status": "ok",
     "timestamp": 1734294796987,
     "user": {
      "displayName": "Andrii Melnychenko",
      "userId": "01331969983638300934"
     },
     "user_tz": -120
    },
    "id": "VFTTBxgPcoU0",
    "outputId": "2f698bc3-abe9-4532-f849-75d93b65f375"
   },
   "outputs": [
    {
     "data": {
      "text/plain": [
       "DatasetDict({\n",
       "    train: Dataset({\n",
       "        features: ['text', 'label', 'input_ids', 'token_type_ids', 'attention_mask'],\n",
       "        num_rows: 12606\n",
       "    })\n",
       "    validation: Dataset({\n",
       "        features: ['text', 'label', 'input_ids', 'token_type_ids', 'attention_mask'],\n",
       "        num_rows: 4202\n",
       "    })\n",
       "    test: Dataset({\n",
       "        features: ['text', 'label', 'input_ids', 'token_type_ids', 'attention_mask'],\n",
       "        num_rows: 4202\n",
       "    })\n",
       "})"
      ]
     },
     "execution_count": 15,
     "metadata": {},
     "output_type": "execute_result"
    }
   ],
   "source": [
    "tokenized_datasets"
   ]
  },
  {
   "cell_type": "markdown",
   "metadata": {
    "id": "GPH0PTcjblPi"
   },
   "source": [
    "**4. Налаштування (finetuning) моделі:**"
   ]
  },
  {
   "cell_type": "code",
   "execution_count": 16,
   "metadata": {
    "colab": {
     "base_uri": "https://localhost:8080/"
    },
    "executionInfo": {
     "elapsed": 822,
     "status": "ok",
     "timestamp": 1734294797807,
     "user": {
      "displayName": "Andrii Melnychenko",
      "userId": "01331969983638300934"
     },
     "user_tz": -120
    },
    "id": "XC8O5KkI34Xe",
    "outputId": "fa292e07-4484-406d-cfc2-e4edb6b4af42"
   },
   "outputs": [
    {
     "name": "stderr",
     "output_type": "stream",
     "text": [
      "Some weights of BertForSequenceClassification were not initialized from the model checkpoint at bert-base-multilingual-uncased and are newly initialized: ['classifier.bias', 'classifier.weight']\n",
      "You should probably TRAIN this model on a down-stream task to be able to use it for predictions and inference.\n"
     ]
    }
   ],
   "source": [
    "from transformers import AutoModelForSequenceClassification\n",
    "\n",
    "num_labels = len(classes)\n",
    "model = AutoModelForSequenceClassification.from_pretrained(model_ckpt,\n",
    "                                                           num_labels = num_labels).to(device)"
   ]
  },
  {
   "cell_type": "code",
   "execution_count": 17,
   "metadata": {
    "colab": {
     "base_uri": "https://localhost:8080/",
     "height": 37
    },
    "executionInfo": {
     "elapsed": 2159,
     "status": "ok",
     "timestamp": 1734294799964,
     "user": {
      "displayName": "Andrii Melnychenko",
      "userId": "01331969983638300934"
     },
     "user_tz": -120
    },
    "id": "4vjRJ-Hr8U5S",
    "outputId": "0b8ee201-3146-4676-8429-fb387535531b"
   },
   "outputs": [
    {
     "data": {
      "text/html": [
       "<button onClick=\"this.nextSibling.style.display='block';this.style.display='none';\">Display W&B run</button><iframe src='?jupyter=true' style='border:none;width:100%;height:420px;display:none;'></iframe>"
      ],
      "text/plain": [
       "<wandb.sdk.wandb_run.Run at 0x7b36aded96c0>"
      ]
     },
     "execution_count": 17,
     "metadata": {},
     "output_type": "execute_result"
    }
   ],
   "source": [
    "import wandb\n",
    "wandb.init(mode = \"disabled\")"
   ]
  },
  {
   "cell_type": "code",
   "execution_count": 18,
   "metadata": {
    "colab": {
     "base_uri": "https://localhost:8080/"
    },
    "executionInfo": {
     "elapsed": 1085,
     "status": "ok",
     "timestamp": 1734294801047,
     "user": {
      "displayName": "Andrii Melnychenko",
      "userId": "01331969983638300934"
     },
     "user_tz": -120
    },
    "id": "f5WVflJtbkHe",
    "outputId": "94c0526b-391d-4f4a-b07c-0a20de9b90b1"
   },
   "outputs": [
    {
     "name": "stderr",
     "output_type": "stream",
     "text": [
      "/usr/local/lib/python3.10/dist-packages/transformers/training_args.py:1568: FutureWarning: `evaluation_strategy` is deprecated and will be removed in version 4.46 of 🤗 Transformers. Use `eval_strategy` instead\n",
      "  warnings.warn(\n"
     ]
    }
   ],
   "source": [
    "from transformers import TrainingArguments, Trainer\n",
    "\n",
    "\n",
    "batch_size = 32\n",
    "model_name = \"bert-base-multilingual-cased-ukr-emotion\" #bert-base-multilingual-uncased\n",
    "\n",
    "training_args = TrainingArguments(output_dir = model_name,\n",
    "                                  num_train_epochs = 3,\n",
    "                                  learning_rate = 2e-5,\n",
    "                                  per_device_train_batch_size = batch_size,\n",
    "                                  per_device_eval_batch_size = batch_size,\n",
    "                                  weight_decay = 0.01,\n",
    "                                  evaluation_strategy = 'epoch',\n",
    "                                  disable_tqdm = False,\n",
    "                                  )"
   ]
  },
  {
   "cell_type": "code",
   "execution_count": 19,
   "metadata": {
    "executionInfo": {
     "elapsed": 5,
     "status": "ok",
     "timestamp": 1734294801047,
     "user": {
      "displayName": "Andrii Melnychenko",
      "userId": "01331969983638300934"
     },
     "user_tz": -120
    },
    "id": "0zl_nS6e4RlD"
   },
   "outputs": [],
   "source": [
    "from sklearn.metrics import accuracy_score, f1_score\n",
    "\n",
    "def compute_metrics(pred):\n",
    "  labels = pred.label_ids\n",
    "  preds = pred.predictions.argmax(-1)\n",
    "  f1 = f1_score(labels, preds, average='weighted')\n",
    "  acc = accuracy_score(labels, preds)\n",
    "  return {\"accuracy\": acc, \"f1\": f1}"
   ]
  },
  {
   "cell_type": "code",
   "execution_count": 20,
   "metadata": {
    "colab": {
     "base_uri": "https://localhost:8080/"
    },
    "executionInfo": {
     "elapsed": 4,
     "status": "ok",
     "timestamp": 1734294801047,
     "user": {
      "displayName": "Andrii Melnychenko",
      "userId": "01331969983638300934"
     },
     "user_tz": -120
    },
    "id": "L-cOWK-veyha",
    "outputId": "9cde5140-f562-4585-b9fa-2d87853dfc01"
   },
   "outputs": [
    {
     "name": "stderr",
     "output_type": "stream",
     "text": [
      "<ipython-input-20-07557c0d69ef>:3: FutureWarning: `tokenizer` is deprecated and will be removed in version 5.0.0 for `Trainer.__init__`. Use `processing_class` instead.\n",
      "  trainer = Trainer(model = model,\n"
     ]
    }
   ],
   "source": [
    "from transformers import Trainer\n",
    "\n",
    "trainer = Trainer(model = model,\n",
    "                  args = training_args,\n",
    "                  compute_metrics = compute_metrics,\n",
    "                  train_dataset = tokenized_datasets['train'],\n",
    "                  eval_dataset = tokenized_datasets['validation'],\n",
    "                  tokenizer = tokenizer)"
   ]
  },
  {
   "cell_type": "markdown",
   "metadata": {
    "id": "7zP-lITuK39R"
   },
   "source": [
    "**5. Навчання та оцінка ефективності модел**"
   ]
  },
  {
   "cell_type": "code",
   "execution_count": 21,
   "metadata": {
    "colab": {
     "base_uri": "https://localhost:8080/",
     "height": 262
    },
    "executionInfo": {
     "elapsed": 2362723,
     "status": "ok",
     "timestamp": 1734297163768,
     "user": {
      "displayName": "Andrii Melnychenko",
      "userId": "01331969983638300934"
     },
     "user_tz": -120
    },
    "id": "zNbDg0-29RhB",
    "outputId": "a0bfd55f-cf22-4d7c-a618-3e5d074eb22e"
   },
   "outputs": [
    {
     "name": "stderr",
     "output_type": "stream",
     "text": [
      "\u001b[34m\u001b[1mwandb\u001b[0m: \u001b[33mWARNING\u001b[0m The `run_name` is currently set to the same value as `TrainingArguments.output_dir`. If this was not intended, please specify a different run name by setting the `TrainingArguments.run_name` parameter.\n"
     ]
    },
    {
     "data": {
      "text/html": [
       "\n",
       "    <div>\n",
       "      \n",
       "      <progress value='1182' max='1182' style='width:300px; height:20px; vertical-align: middle;'></progress>\n",
       "      [1182/1182 39:17, Epoch 3/3]\n",
       "    </div>\n",
       "    <table border=\"1\" class=\"dataframe\">\n",
       "  <thead>\n",
       " <tr style=\"text-align: left;\">\n",
       "      <th>Epoch</th>\n",
       "      <th>Training Loss</th>\n",
       "      <th>Validation Loss</th>\n",
       "      <th>Accuracy</th>\n",
       "      <th>F1</th>\n",
       "    </tr>\n",
       "  </thead>\n",
       "  <tbody>\n",
       "    <tr>\n",
       "      <td>1</td>\n",
       "      <td>No log</td>\n",
       "      <td>0.048734</td>\n",
       "      <td>0.987863</td>\n",
       "      <td>0.987862</td>\n",
       "    </tr>\n",
       "    <tr>\n",
       "      <td>2</td>\n",
       "      <td>0.142600</td>\n",
       "      <td>0.037099</td>\n",
       "      <td>0.993337</td>\n",
       "      <td>0.993337</td>\n",
       "    </tr>\n",
       "    <tr>\n",
       "      <td>3</td>\n",
       "      <td>0.024600</td>\n",
       "      <td>0.039643</td>\n",
       "      <td>0.992147</td>\n",
       "      <td>0.992147</td>\n",
       "    </tr>\n",
       "  </tbody>\n",
       "</table><p>"
      ],
      "text/plain": [
       "<IPython.core.display.HTML object>"
      ]
     },
     "metadata": {},
     "output_type": "display_data"
    },
    {
     "data": {
      "text/plain": [
       "TrainOutput(global_step=1182, training_loss=0.07306229765645139, metrics={'train_runtime': 2361.6638, 'train_samples_per_second': 16.013, 'train_steps_per_second': 0.5, 'total_flos': 6471603878719320.0, 'train_loss': 0.07306229765645139, 'epoch': 3.0})"
      ]
     },
     "execution_count": 21,
     "metadata": {},
     "output_type": "execute_result"
    }
   ],
   "source": [
    "trainer.train()"
   ]
  },
  {
   "cell_type": "code",
   "execution_count": 22,
   "metadata": {
    "colab": {
     "base_uri": "https://localhost:8080/",
     "height": 127
    },
    "executionInfo": {
     "elapsed": 84976,
     "status": "ok",
     "timestamp": 1734297248734,
     "user": {
      "displayName": "Andrii Melnychenko",
      "userId": "01331969983638300934"
     },
     "user_tz": -120
    },
    "id": "2TtA31X3zPHD",
    "outputId": "78016514-04de-4d81-e86b-4a95c26582e3"
   },
   "outputs": [
    {
     "data": {
      "text/html": [],
      "text/plain": [
       "<IPython.core.display.HTML object>"
      ]
     },
     "metadata": {},
     "output_type": "display_data"
    },
    {
     "data": {
      "text/plain": [
       "{'test_loss': 0.031149307265877724,\n",
       " 'test_accuracy': 0.9940504521656354,\n",
       " 'test_f1': 0.9940504430674755,\n",
       " 'test_runtime': 85.084,\n",
       " 'test_samples_per_second': 49.387,\n",
       " 'test_steps_per_second': 1.551}"
      ]
     },
     "execution_count": 22,
     "metadata": {},
     "output_type": "execute_result"
    }
   ],
   "source": [
    "preds_outputs = trainer.predict(tokenized_datasets['test'])\n",
    "preds_outputs.metrics"
   ]
  },
  {
   "cell_type": "code",
   "execution_count": 43,
   "metadata": {
    "colab": {
     "base_uri": "https://localhost:8080/"
    },
    "executionInfo": {
     "elapsed": 227,
     "status": "ok",
     "timestamp": 1734298055097,
     "user": {
      "displayName": "Andrii Melnychenko",
      "userId": "01331969983638300934"
     },
     "user_tz": -120
    },
    "id": "2usx_Wp-zWhp",
    "outputId": "3ca42030-71fa-496e-c988-9039aff98abd"
   },
   "outputs": [
    {
     "name": "stdout",
     "output_type": "stream",
     "text": [
      "привіт! як справи загалом? Predict: 0, non-toxic\n",
      "цей чоловік занадтно класний Predict: 0, non-toxic\n",
      "це так пиздато Predict: 1, toxic\n",
      "йобана русня Predict: 1, toxic\n",
      "путін хуйло Predict: 1, toxic\n"
     ]
    }
   ],
   "source": [
    "#Приклад перевірки класифікації токсичних слів\n",
    "result = ['привіт! як справи загалом?', 'цей чоловік занадтно класний','це так пиздато','йобана русня','путін хуйло']\n",
    "\n",
    "for text in result:\n",
    "  input_encoded = tokenizer(text, return_tensors='pt').to(device)\n",
    "  with torch.no_grad():\n",
    "    outputs = model(**input_encoded)\n",
    "\n",
    "  logits = outputs.logits\n",
    "  pred = torch.argmax(logits, dim=1).item()\n",
    "  print(f'{text} Predict: {pred}, {classes[pred]}')"
   ]
  },
  {
   "cell_type": "markdown",
   "metadata": {
    "id": "B-yYYO-hL5de"
   },
   "source": [
    "**7. Документування результатів**\n",
    "\n",
    "1. Для покращення результатів було збільшено batch_size з 8 до 32(з підключеним GPU)\n",
    "2. Також зменшено к-сть епох до 3(Модель BERT зазвичай добре узагальнює за 3 епохи.)"
   ]
  },
  {
   "cell_type": "code",
   "execution_count": 31,
   "metadata": {
    "colab": {
     "base_uri": "https://localhost:8080/"
    },
    "executionInfo": {
     "elapsed": 7814,
     "status": "ok",
     "timestamp": 1734297424257,
     "user": {
      "displayName": "Andrii Melnychenko",
      "userId": "01331969983638300934"
     },
     "user_tz": -120
    },
    "id": "lcuPCo8y0DiB",
    "outputId": "471146cf-41b6-4903-9b02-1f3c63f8ce86"
   },
   "outputs": [
    {
     "data": {
      "text/plain": [
       "('.config/toxicity_model/tokenizer_config.json',\n",
       " '.config/toxicity_model/special_tokens_map.json',\n",
       " '.config/toxicity_model/vocab.txt',\n",
       " '.config/toxicity_model/added_tokens.json')"
      ]
     },
     "execution_count": 31,
     "metadata": {},
     "output_type": "execute_result"
    }
   ],
   "source": [
    "model.save_pretrained(\".config/toxicity_model\")\n",
    "tokenizer.save_pretrained(\".config/toxicity_model\")"
   ]
  }
 ],
 "metadata": {
  "accelerator": "GPU",
  "colab": {
   "authorship_tag": "ABX9TyPsOqN+GHDKGD7hrn8fYyN8",
   "gpuType": "T4",
   "provenance": []
  },
  "kernelspec": {
   "display_name": "Python 3",
   "name": "python3"
  },
  "language_info": {
   "name": "python"
  }
 },
 "nbformat": 4,
 "nbformat_minor": 0
}
