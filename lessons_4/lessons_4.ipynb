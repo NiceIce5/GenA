{
 "cells": [
  {
   "cell_type": "code",
   "execution_count": 47,
   "metadata": {
    "executionInfo": {
     "elapsed": 231,
     "status": "ok",
     "timestamp": 1733584972860,
     "user": {
      "displayName": "Andrii Melnychenko",
      "userId": "01331969983638300934"
     },
     "user_tz": -120
    },
    "id": "O1klDjC0qPAX"
   },
   "outputs": [],
   "source": [
    "import numpy as np\n",
    "import torch\n",
    "import torch.nn as nn\n",
    "import torch.optim as optim\n",
    "import torchvision\n",
    "import torchvision.transforms as transforms\n",
    "import matplotlib.pyplot as plt\n",
    "from torch.utils.data import random_split\n",
    "from torchvision import datasets, transforms\n",
    "from  PIL import Image"
   ]
  },
  {
   "cell_type": "code",
   "execution_count": 66,
   "metadata": {
    "colab": {
     "base_uri": "https://localhost:8080/",
     "height": 35
    },
    "executionInfo": {
     "elapsed": 209,
     "status": "ok",
     "timestamp": 1733586151533,
     "user": {
      "displayName": "Andrii Melnychenko",
      "userId": "01331969983638300934"
     },
     "user_tz": -120
    },
    "id": "mSoTHCce2Gt2",
    "outputId": "759111d9-955a-4b13-edb0-1c64719599b1"
   },
   "outputs": [
    {
     "data": {
      "application/vnd.google.colaboratory.intrinsic+json": {
       "type": "string"
      },
      "text/plain": [
       "'cuda'"
      ]
     },
     "execution_count": 66,
     "metadata": {},
     "output_type": "execute_result"
    }
   ],
   "source": [
    "device = \"cuda\" if torch.cuda.is_available() else \"cpu\"\n",
    "device"
   ]
  },
  {
   "cell_type": "markdown",
   "metadata": {
    "id": "TYr_KO3k296c"
   },
   "source": [
    "**1. Завантаження та попередня обробка зображень для CNN:**\n",
    "  * Завантажте набір даних (наприклад, CIFAR-10, MNIST, або інший публічний датасет для зображень). та розділіть його на навчальну та тестову вибірки.\n",
    "  * Нормалізуйте значення пікселів до діапазону [0, 1].\n",
    "  * Якщо необхідно, виконайте перетворення даних, такі як обрізання, повороти або віддзеркалення для збільшення кількості навчальних зображень (augmentation)."
   ]
  },
  {
   "cell_type": "code",
   "execution_count": 49,
   "metadata": {
    "colab": {
     "base_uri": "https://localhost:8080/"
    },
    "executionInfo": {
     "elapsed": 1726,
     "status": "ok",
     "timestamp": 1733584976410,
     "user": {
      "displayName": "Andrii Melnychenko",
      "userId": "01331969983638300934"
     },
     "user_tz": -120
    },
    "id": "5JzLKkeR3Chh",
    "outputId": "f0e06eb5-c217-4e4b-9ee2-355835b94ab5"
   },
   "outputs": [
    {
     "name": "stdout",
     "output_type": "stream",
     "text": [
      "Files already downloaded and verified\n",
      "Files already downloaded and verified\n"
     ]
    }
   ],
   "source": [
    "# Навчальний датасет augmentation\n",
    "transform_train = transforms.Compose([transforms.RandomHorizontalFlip(p=0.5),\n",
    "                                      transforms.RandomRotation(10),\n",
    "                                      transforms.ToTensor()\n",
    "                                      ])\n",
    "\n",
    "# Навчальний датасет без augmentation\n",
    "transform_test = transforms.Compose([transforms.ToTensor()\n",
    "                                     ])\n",
    "\n",
    "# Датасет cifar-10\n",
    "train_dataset = datasets.CIFAR10(root='./data',\n",
    "                                 train = True,\n",
    "                                 download = True,\n",
    "                                 transform = transform_train)\n",
    "test_dataset = datasets.CIFAR10(root='./data',\n",
    "                                train = False,\n",
    "                                download = True,\n",
    "                                transform = transform_test)\n",
    "\n",
    "batch_size = 32\n",
    "\n",
    "train_loader = torch.utils.data.DataLoader(train_dataset,\n",
    "                                           batch_size = batch_size,\n",
    "                                           shuffle = True)\n",
    "\n",
    "test_loader = torch.utils.data.DataLoader(test_dataset,\n",
    "                                          batch_size = batch_size,\n",
    "                                          shuffle = False)\n",
    "class_names = train_dataset.classes"
   ]
  },
  {
   "cell_type": "code",
   "execution_count": 50,
   "metadata": {
    "executionInfo": {
     "elapsed": 223,
     "status": "ok",
     "timestamp": 1733584976632,
     "user": {
      "displayName": "Andrii Melnychenko",
      "userId": "01331969983638300934"
     },
     "user_tz": -120
    },
    "id": "ji1hmTqc6TX_"
   },
   "outputs": [],
   "source": [
    "image, label = train_dataset[1]"
   ]
  },
  {
   "cell_type": "code",
   "execution_count": 51,
   "metadata": {
    "colab": {
     "base_uri": "https://localhost:8080/",
     "height": 447
    },
    "executionInfo": {
     "elapsed": 291,
     "status": "ok",
     "timestamp": 1733584977439,
     "user": {
      "displayName": "Andrii Melnychenko",
      "userId": "01331969983638300934"
     },
     "user_tz": -120
    },
    "id": "wnkIeE_h7wZ0",
    "outputId": "6a2a489d-6813-403d-9ff6-42c8464c2e90"
   },
   "outputs": [
    {
     "data": {
      "text/plain": [
       "<matplotlib.image.AxesImage at 0x7a1ea7e059c0>"
      ]
     },
     "execution_count": 51,
     "metadata": {},
     "output_type": "execute_result"
    },
    {
     "data": {
      "image/png": "[encoded data removed]",
      "text/plain": [
       "<Figure size 640x480 with 1 Axes>"
      ]
     },
     "metadata": {},
     "output_type": "display_data"
    }
   ],
   "source": [
    "#Після трансформації оригінального зображення\n",
    "single_img = np.array(image)\n",
    "single_img_reshaped = np.transpose(np.reshape(single_img,(3, 32,32)), (1,2,0))\n",
    "plt.imshow(single_img_reshaped)"
   ]
  },
  {
   "cell_type": "code",
   "execution_count": 52,
   "metadata": {
    "executionInfo": {
     "elapsed": 240,
     "status": "ok",
     "timestamp": 1733584979712,
     "user": {
      "displayName": "Andrii Melnychenko",
      "userId": "01331969983638300934"
     },
     "user_tz": -120
    },
    "id": "-8eX5WZT98wI"
   },
   "outputs": [],
   "source": [
    "#Час виконання\n",
    "from timeit import default_timer as timer\n",
    "def print_train_time(start: float, end: float, device: torch.device = None):\n",
    "    \"\"\"Prints difference between start and end time.\n",
    "\n",
    "    Args:\n",
    "        start (float): Start time of computation (preferred in timeit format).\n",
    "        end (float): End time of computation.\n",
    "        device ([type], optional): Device that compute is running on. Defaults to None.\n",
    "\n",
    "    Returns:\n",
    "        float: time between start and end in seconds (higher is longer).\n",
    "    \"\"\"\n",
    "    total_time = end - start\n",
    "    print(f\"Train time on {device}: {total_time:.3f} seconds\")\n",
    "    return total_time\n",
    "\n",
    "\n",
    "# Метрика правильності\n",
    "def accuracy_fn(y_true, y_pred):\n",
    "    correct = torch.eq(y_true, y_pred).sum().item()\n",
    "    acc = (correct / len(y_pred)) * 100\n",
    "    return acc"
   ]
  },
  {
   "cell_type": "markdown",
   "metadata": {
    "id": "shkIa8Rn-BuD"
   },
   "source": [
    "**2 Створення архітектури CNN:**\n",
    "  * Побудуйте просту CNN з кількох згорткових шарів (Conv2D) з функціями активації ReLU.\n",
    "  * Додайте шари підсемплювання (MaxPooling2D) після згорткових шарів для зменшення розміру.\n",
    "  * Розгорніть результати згорткових шарів (Flatten) і додайте один або більше повнозв’язних шарів (Dense).\n",
    "  * Вихідний шар із softmax для класифікації зображень на категорії."
   ]
  },
  {
   "cell_type": "code",
   "execution_count": 53,
   "metadata": {
    "executionInfo": {
     "elapsed": 259,
     "status": "ok",
     "timestamp": 1733584981379,
     "user": {
      "displayName": "Andrii Melnychenko",
      "userId": "01331969983638300934"
     },
     "user_tz": -120
    },
    "id": "0y6rS2Li-EQD"
   },
   "outputs": [],
   "source": [
    "#Створюємо класс CNN моделі\n",
    "class CNNModel(nn.Module):\n",
    "    def __init__(self):\n",
    "        super(CNNModel, self).__init__()\n",
    "        self.conv_layers = nn.Sequential(\n",
    "            nn.Conv2d(3, 32, kernel_size = 3, padding = 1),\n",
    "            nn.ReLU(),\n",
    "            nn.MaxPool2d(kernel_size = 2, stride = 2),\n",
    "            nn.Conv2d(32, 64, kernel_size = 3, padding = 1),\n",
    "            nn.ReLU(),\n",
    "            nn.MaxPool2d(kernel_size = 2, stride = 2)\n",
    "        )\n",
    "\n",
    "        self.classifier = nn.Sequential(\n",
    "            nn.Flatten(),\n",
    "            nn.Linear(64 * 8 * 8, 128),\n",
    "            nn.ReLU(),\n",
    "            nn.Linear(128, 10)\n",
    "        )\n",
    "\n",
    "    def forward(self, x: torch.Tensor):\n",
    "        x = self.conv_layers(x)\n",
    "        x = self.classifier(x)\n",
    "\n",
    "        return x"
   ]
  },
  {
   "cell_type": "code",
   "execution_count": 54,
   "metadata": {
    "executionInfo": {
     "elapsed": 237,
     "status": "ok",
     "timestamp": 1733584982599,
     "user": {
      "displayName": "Andrii Melnychenko",
      "userId": "01331969983638300934"
     },
     "user_tz": -120
    },
    "id": "PcmMnveqMw2B"
   },
   "outputs": [],
   "source": [
    "torch.manual_seed(42)\n",
    "model = CNNModel()\n",
    "\n",
    "#Ініціалізація функцію втрати та оптимізатор(Adam)\n",
    "loss_fn = nn.CrossEntropyLoss()\n",
    "optimizer = optim.Adam(params = model.parameters(), lr = 0.001)"
   ]
  },
  {
   "cell_type": "code",
   "execution_count": 55,
   "metadata": {
    "colab": {
     "base_uri": "https://localhost:8080/"
    },
    "executionInfo": {
     "elapsed": 241,
     "status": "ok",
     "timestamp": 1733584984413,
     "user": {
      "displayName": "Andrii Melnychenko",
      "userId": "01331969983638300934"
     },
     "user_tz": -120
    },
    "id": "qFRyFe7IZoaw",
    "outputId": "23c31ea3-cc55-419d-99da-ee4f5cc8d88b"
   },
   "outputs": [
    {
     "data": {
      "text/plain": [
       "CNNModel(\n",
       "  (conv_layers): Sequential(\n",
       "    (0): Conv2d(3, 32, kernel_size=(3, 3), stride=(1, 1), padding=(1, 1))\n",
       "    (1): ReLU()\n",
       "    (2): MaxPool2d(kernel_size=2, stride=2, padding=0, dilation=1, ceil_mode=False)\n",
       "    (3): Conv2d(32, 64, kernel_size=(3, 3), stride=(1, 1), padding=(1, 1))\n",
       "    (4): ReLU()\n",
       "    (5): MaxPool2d(kernel_size=2, stride=2, padding=0, dilation=1, ceil_mode=False)\n",
       "  )\n",
       "  (classifier): Sequential(\n",
       "    (0): Flatten(start_dim=1, end_dim=-1)\n",
       "    (1): Linear(in_features=4096, out_features=128, bias=True)\n",
       "    (2): ReLU()\n",
       "    (3): Linear(in_features=128, out_features=10, bias=True)\n",
       "  )\n",
       ")"
      ]
     },
     "execution_count": 55,
     "metadata": {},
     "output_type": "execute_result"
    }
   ],
   "source": [
    "model"
   ]
  },
  {
   "cell_type": "code",
   "execution_count": 56,
   "metadata": {
    "colab": {
     "base_uri": "https://localhost:8080/",
     "height": 1000,
     "referenced_widgets": [
      "bf490c5c91874cbeba206881e28d58a1",
      "a5bcb78770eb41f8972b542c68a74078",
      "aaa2abd501da49728868913feaa64872",
      "e41d15c45aac40f785aa87ec0fe4b1c7",
      "ef1d80989d3546e08b78c027f21a4af9",
      "c8fa749a726143c8bcf564210e98cd19",
      "5a50ab1324414919bac2ebd1dd5d4f1b",
      "b6ff857152624ff5b599fadb2e924330",
      "774e8a5214b4450688266a2e9c8f2c2a",
      "908033be264b459dac58bf23bc949bdb",
      "8db97b59646840009e544cf6a8c713df"
     ]
    },
    "executionInfo": {
     "elapsed": 907526,
     "status": "ok",
     "timestamp": 1733585894416,
     "user": {
      "displayName": "Andrii Melnychenko",
      "userId": "01331969983638300934"
     },
     "user_tz": -120
    },
    "id": "eXbZMNzoNU48",
    "outputId": "8ec7d44c-3ecf-4150-b410-64c8d80ca4ea"
   },
   "outputs": [
    {
     "data": {
      "application/vnd.jupyter.widget-view+json": {
       "model_id": "bf490c5c91874cbeba206881e28d58a1",
       "version_major": 2,
       "version_minor": 0
      },
      "text/plain": [
       "  0%|          | 0/10 [00:00<?, ?it/s]"
      ]
     },
     "metadata": {},
     "output_type": "display_data"
    },
    {
     "name": "stdout",
     "output_type": "stream",
     "text": [
      "Epoch: 0\n",
      "-------\n",
      "Looked at 0/50000 samples\n",
      "Looked at 12800/50000 samples\n",
      "Looked at 25600/50000 samples\n",
      "Looked at 38400/50000 samples\n",
      "\n",
      "Train loss: 1.44813 Train acc: 47.30% | Test loss: 1.16348, Test acc: 58.26%\n",
      "\n",
      "Epoch: 1\n",
      "-------\n",
      "Looked at 0/50000 samples\n",
      "Looked at 12800/50000 samples\n",
      "Looked at 25600/50000 samples\n",
      "Looked at 38400/50000 samples\n",
      "\n",
      "Train loss: 1.10996 Train acc: 60.44% | Test loss: 0.99834, Test acc: 64.93%\n",
      "\n",
      "Epoch: 2\n",
      "-------\n",
      "Looked at 0/50000 samples\n",
      "Looked at 12800/50000 samples\n",
      "Looked at 25600/50000 samples\n",
      "Looked at 38400/50000 samples\n",
      "\n",
      "Train loss: 0.99518 Train acc: 64.89% | Test loss: 0.95837, Test acc: 65.48%\n",
      "\n",
      "Epoch: 3\n",
      "-------\n",
      "Looked at 0/50000 samples\n",
      "Looked at 12800/50000 samples\n",
      "Looked at 25600/50000 samples\n",
      "Looked at 38400/50000 samples\n",
      "\n",
      "Train loss: 0.92795 Train acc: 67.28% | Test loss: 0.89583, Test acc: 68.92%\n",
      "\n",
      "Epoch: 4\n",
      "-------\n",
      "Looked at 0/50000 samples\n",
      "Looked at 12800/50000 samples\n",
      "Looked at 25600/50000 samples\n",
      "Looked at 38400/50000 samples\n",
      "\n",
      "Train loss: 0.87511 Train acc: 69.05% | Test loss: 0.89200, Test acc: 68.76%\n",
      "\n",
      "Epoch: 5\n",
      "-------\n",
      "Looked at 0/50000 samples\n",
      "Looked at 12800/50000 samples\n",
      "Looked at 25600/50000 samples\n",
      "Looked at 38400/50000 samples\n",
      "\n",
      "Train loss: 0.83524 Train acc: 70.42% | Test loss: 0.87377, Test acc: 69.25%\n",
      "\n",
      "Epoch: 6\n",
      "-------\n",
      "Looked at 0/50000 samples\n",
      "Looked at 12800/50000 samples\n",
      "Looked at 25600/50000 samples\n",
      "Looked at 38400/50000 samples\n",
      "\n",
      "Train loss: 0.80398 Train acc: 71.67% | Test loss: 0.82413, Test acc: 71.57%\n",
      "\n",
      "Epoch: 7\n",
      "-------\n",
      "Looked at 0/50000 samples\n",
      "Looked at 12800/50000 samples\n",
      "Looked at 25600/50000 samples\n",
      "Looked at 38400/50000 samples\n",
      "\n",
      "Train loss: 0.77224 Train acc: 72.73% | Test loss: 0.80916, Test acc: 72.46%\n",
      "\n",
      "Epoch: 8\n",
      "-------\n",
      "Looked at 0/50000 samples\n",
      "Looked at 12800/50000 samples\n",
      "Looked at 25600/50000 samples\n",
      "Looked at 38400/50000 samples\n",
      "\n",
      "Train loss: 0.74323 Train acc: 73.76% | Test loss: 0.81214, Test acc: 72.24%\n",
      "\n",
      "Epoch: 9\n",
      "-------\n",
      "Looked at 0/50000 samples\n",
      "Looked at 12800/50000 samples\n",
      "Looked at 25600/50000 samples\n",
      "Looked at 38400/50000 samples\n",
      "\n",
      "Train loss: 0.72291 Train acc: 74.25% | Test loss: 0.79118, Test acc: 72.94%\n",
      "\n",
      "Train time on cpu: 907.277 seconds\n"
     ]
    }
   ],
   "source": [
    "#from content.helper_functions import accuracy_fn\n",
    "from tqdm.auto import tqdm\n",
    "torch.manual_seed(42)\n",
    "train_time_start_on_cpu = timer()\n",
    "\n",
    "\n",
    "# Тренування моделі\n",
    "epochs = 10\n",
    "loss_train_all = []\n",
    "loss_test_all = []\n",
    "acc_train_all = []\n",
    "acc_test_all = []\n",
    "\n",
    "for epoch in tqdm(range(epochs)):\n",
    "    print(f\"Epoch: {epoch}\\n-------\")\n",
    "\n",
    "    model.train()\n",
    "\n",
    "    #Тренування\n",
    "    train_loss, train_acc = 0, 0\n",
    "\n",
    "    for batch, (X, y) in enumerate(train_loader):\n",
    "\n",
    "      optimizer.zero_grad()\n",
    "\n",
    "      # Прямий прохід\n",
    "      y_logits = model(X)\n",
    "      y_pred = torch.softmax(y_logits, dim = 1)\n",
    "\n",
    "      # Дивимося втрати\n",
    "      loss = loss_fn(y_logits, y)\n",
    "      train_loss += loss\n",
    "\n",
    "      # Визначаємо точність\n",
    "      train_acc += accuracy_fn(y_true = y, y_pred = y_pred.argmax(dim=1))\n",
    "\n",
    "\n",
    "      # Зворотній прохід та оптимізація\n",
    "      loss.backward()\n",
    "      optimizer.step()\n",
    "\n",
    "      #Результат\n",
    "      if batch % 400 == 0:\n",
    "          print(f'Looked at {batch * len(X)}/{len(train_loader.dataset)} samples')\n",
    "\n",
    "    train_loss /= len(train_loader)\n",
    "    train_acc /= len(train_loader)\n",
    "\n",
    "    ### Тестування\n",
    "\n",
    "    test_loss, test_acc = 0, 0\n",
    "\n",
    "    model.eval()\n",
    "    with torch.inference_mode():\n",
    "        for X, y in test_loader:\n",
    "\n",
    "            # Прямий прохід\n",
    "            #test_pred = model(X)\n",
    "            test_logits = model(X)\n",
    "            test_pred = torch.softmax(test_logits, dim = 1)\n",
    "\n",
    "            # Дивимося втрати\n",
    "            test_loss += loss_fn(test_logits, y)\n",
    "\n",
    "            # Визначаємо точність\n",
    "            test_acc += accuracy_fn(y_true = y, y_pred = test_pred.argmax(dim=1))\n",
    "\n",
    "        test_loss /= len(test_loader)\n",
    "        test_acc /= len(test_loader)\n",
    "\n",
    "    ## Результат\n",
    "    print(f\"\\nTrain loss: {train_loss:.5f} Train acc: {train_acc:.2f}% | Test loss: {test_loss:.5f}, Test acc: {test_acc:.2f}%\\n\")\n",
    "\n",
    "    loss_train_all.append(train_loss)\n",
    "    loss_test_all.append(test_loss)\n",
    "    acc_train_all.append(train_acc)\n",
    "    acc_test_all.append(test_acc)\n",
    "\n",
    "# Рахуємо витрачений час\n",
    "train_time_end_on_cpu = timer()\n",
    "total_train_time_model_0 = print_train_time(start = train_time_start_on_cpu,\n",
    "                                           end = train_time_end_on_cpu,\n",
    "                                           device = str(next(model.parameters()).device))"
   ]
  },
  {
   "cell_type": "markdown",
   "metadata": {
    "id": "6wfWHuvXhh9u"
   },
   "source": [
    "**Графік втрати та точності під час навчання**"
   ]
  },
  {
   "cell_type": "code",
   "execution_count": 57,
   "metadata": {
    "executionInfo": {
     "elapsed": 237,
     "status": "ok",
     "timestamp": 1733585901297,
     "user": {
      "displayName": "Andrii Melnychenko",
      "userId": "01331969983638300934"
     },
     "user_tz": -120
    },
    "id": "PUfN8lPjh5mU"
   },
   "outputs": [],
   "source": [
    "scalar_loss_train_list = [t.item() for t in loss_train_all]\n",
    "scalar_loss_test_list = [t.item() for t in loss_test_all]"
   ]
  },
  {
   "cell_type": "code",
   "execution_count": 58,
   "metadata": {
    "colab": {
     "base_uri": "https://localhost:8080/",
     "height": 487
    },
    "executionInfo": {
     "elapsed": 631,
     "status": "ok",
     "timestamp": 1733585903927,
     "user": {
      "displayName": "Andrii Melnychenko",
      "userId": "01331969983638300934"
     },
     "user_tz": -120
    },
    "id": "O6XudcQNhayl",
    "outputId": "4621a1c5-f759-4cf4-e369-6271775605df"
   },
   "outputs": [
    {
     "data": {
      "image/png": "[encoded data removed]",
      "text/plain": [
       "<Figure size 1200x500 with 2 Axes>"
      ]
     },
     "metadata": {},
     "output_type": "display_data"
    }
   ],
   "source": [
    "epochs = range(1, 10+1)\n",
    "\n",
    "plt.figure(figsize=(12,5))\n",
    "\n",
    "# Loss\n",
    "plt.subplot(1,2,1)\n",
    "plt.plot(epochs, scalar_loss_train_list, 'blue', label='Train')\n",
    "plt.plot(epochs, scalar_loss_test_list, 'orange', label='Test')\n",
    "plt.title('Loss')\n",
    "plt.xlabel('Epoch')\n",
    "plt.ylabel('Loss')\n",
    "plt.legend()\n",
    "\n",
    "# Acc\n",
    "plt.subplot(1,2,2)\n",
    "plt.plot(epochs, acc_train_all, 'blue', label='Train')\n",
    "plt.plot(epochs, acc_test_all, 'orange', label='Test')\n",
    "plt.title('Acc')\n",
    "plt.xlabel('Epoch')\n",
    "plt.ylabel('Acc')\n",
    "plt.legend()\n",
    "\n",
    "plt.show()"
   ]
  },
  {
   "cell_type": "markdown",
   "metadata": {
    "id": "xJUTpxNKjG8k"
   },
   "source": [
    "**Оцінка моделі**"
   ]
  },
  {
   "cell_type": "code",
   "execution_count": 59,
   "metadata": {
    "colab": {
     "base_uri": "https://localhost:8080/"
    },
    "executionInfo": {
     "elapsed": 7335,
     "status": "ok",
     "timestamp": 1733585924655,
     "user": {
      "displayName": "Andrii Melnychenko",
      "userId": "01331969983638300934"
     },
     "user_tz": -120
    },
    "id": "VnWRJ9CojJRo",
    "outputId": "b5668f63-f5e0-445b-ef0a-a1824fe7d8c3"
   },
   "outputs": [
    {
     "data": {
      "text/plain": [
       "{'model_name': 'CNNModel',\n",
       " 'model_loss': 0.791183590888977,\n",
       " 'model_acc': 72.94329073482429}"
      ]
     },
     "execution_count": 59,
     "metadata": {},
     "output_type": "execute_result"
    }
   ],
   "source": [
    "torch.manual_seed(42)\n",
    "\n",
    "def eval_model(model: torch.nn.Module,\n",
    "               data_loader: torch.utils.data.DataLoader,\n",
    "               loss_fn: torch.nn.Module,\n",
    "               accuracy_fn,\n",
    "               device: torch.device = device):\n",
    "\n",
    "    loss, acc = 0, 0\n",
    "\n",
    "    model.eval()\n",
    "    with torch.inference_mode():\n",
    "        for X, y in data_loader:\n",
    "\n",
    "            # Прямий прохід\n",
    "            test_logits = model(X)\n",
    "            test_pred = torch.softmax(test_logits, dim = 1)\n",
    "\n",
    "            # Дивимося втрати\n",
    "            loss += loss_fn(test_logits, y)\n",
    "\n",
    "            # Визначаємо точність\n",
    "            acc += accuracy_fn(y_true = y, y_pred = test_pred.argmax(dim=1))\n",
    "\n",
    "        loss /= len(data_loader)\n",
    "        acc /= len(data_loader)\n",
    "\n",
    "    return {\"model_name\": model.__class__.__name__, # only works when model was created with a class\n",
    "            \"model_loss\": loss.item(),\n",
    "            \"model_acc\": acc}\n",
    "\n",
    "# Рахуємо точність та витрати на тестовому наборі\n",
    "model_results = eval_model(model = model,\n",
    "                           data_loader = test_loader,\n",
    "                           loss_fn = loss_fn,\n",
    "                           accuracy_fn = accuracy_fn,\n",
    "                           device = device\n",
    ")\n",
    "\n",
    "model_results"
   ]
  },
  {
   "cell_type": "markdown",
   "metadata": {
    "id": "ObfvUP6QyFk-"
   },
   "source": [
    "**Confusion matrix**"
   ]
  },
  {
   "cell_type": "code",
   "execution_count": 63,
   "metadata": {
    "colab": {
     "base_uri": "https://localhost:8080/",
     "height": 49,
     "referenced_widgets": [
      "c6df5db6501943ee9bc728e0974358bf",
      "cb73012b31aa4e859fc5c2f1545091db",
      "134c0344c49c4c6199798453ff287385",
      "e2082376ee464924a893114121f53e98",
      "f79164b47acd4d1eb0ea71d2ee67c639",
      "165132c9a6674638a6d6a45cbee4122f",
      "ee62762c11ba4ac9afdeb0c071ec4d5b",
      "39f98be360fc4d1bbf51715af5661377",
      "4b74c4b0f64b44c4a575f8b77f9ebe79",
      "3aa63da26afe4c7cb6943827f9b9798f",
      "b6217a16fa93402e96e010d065821b83"
     ]
    },
    "executionInfo": {
     "elapsed": 7307,
     "status": "ok",
     "timestamp": 1733586012110,
     "user": {
      "displayName": "Andrii Melnychenko",
      "userId": "01331969983638300934"
     },
     "user_tz": -120
    },
    "id": "shVUvABlxwPs",
    "outputId": "4e38c462-8eae-4698-d910-8ba07c8c0b90"
   },
   "outputs": [
    {
     "data": {
      "application/vnd.jupyter.widget-view+json": {
       "model_id": "c6df5db6501943ee9bc728e0974358bf",
       "version_major": 2,
       "version_minor": 0
      },
      "text/plain": [
       "Making predictions:   0%|          | 0/313 [00:00<?, ?it/s]"
      ]
     },
     "metadata": {},
     "output_type": "display_data"
    }
   ],
   "source": [
    "from tqdm.auto import tqdm\n",
    "\n",
    "y_preds = []\n",
    "\n",
    "model.eval()\n",
    "with torch.inference_mode():\n",
    "  for X, y in tqdm(test_loader, desc = \"Making predictions\"):\n",
    "\n",
    "    y_logit = model(X)\n",
    "    y_pred = torch.softmax(y_logit, dim = 1).argmax(dim = 1)\n",
    "\n",
    "    y_preds.append(y_pred.cpu())\n",
    "\n",
    "y_pred_tensor = torch.cat(y_preds)"
   ]
  },
  {
   "cell_type": "code",
   "execution_count": 65,
   "metadata": {
    "colab": {
     "base_uri": "https://localhost:8080/",
     "height": 687
    },
    "executionInfo": {
     "elapsed": 934,
     "status": "ok",
     "timestamp": 1733586068443,
     "user": {
      "displayName": "Andrii Melnychenko",
      "userId": "01331969983638300934"
     },
     "user_tz": -120
    },
    "id": "f2MvvSinx0ZZ",
    "outputId": "91cfafb0-99ce-44bb-9a8e-759920e5105e"
   },
   "outputs": [
    {
     "name": "stdout",
     "output_type": "stream",
     "text": [
      "mlxtend version: 0.23.3\n"
     ]
    },
    {
     "data": {
      "image/png": "[encoded data removed]",
      "text/plain": [
       "<Figure size 1000x700 with 1 Axes>"
      ]
     },
     "metadata": {},
     "output_type": "display_data"
    }
   ],
   "source": [
    "# See if torchmetrics exists, if not, install it\n",
    "try:\n",
    "    import torchmetrics, mlxtend\n",
    "    print(f\"mlxtend version: {mlxtend.__version__}\")\n",
    "    assert int(mlxtend.__version__.split(\".\")[1]) >= 19, \"mlxtend verison should be 0.19.0 or higher\"\n",
    "except:\n",
    "    !pip install -q torchmetrics -U mlxtend # <- Note: If you're using Google Colab, this may require restarting the runtime\n",
    "    import torchmetrics, mlxtend\n",
    "    print(f\"mlxtend version: {mlxtend.__version__}\")\n",
    "\n",
    "\n",
    "from torchmetrics import ConfusionMatrix\n",
    "from mlxtend.plotting import plot_confusion_matrix\n",
    "\n",
    "targets_tensor = torch.tensor(test_dataset.targets) if isinstance(test_dataset.targets, list) else test_dataset.targets\n",
    "\n",
    "\n",
    "confmat = ConfusionMatrix(num_classes = len(class_names), task = 'multiclass')\n",
    "confmat_tensor = confmat(preds = y_pred_tensor,\n",
    "                         target = targets_tensor)\n",
    "\n",
    "fig, ax = plot_confusion_matrix(conf_mat = confmat_tensor.numpy(),\n",
    "                                class_names = class_names,\n",
    "                                figsize=(10, 7)\n",
    ");"
   ]
  }
 ],
 "metadata": {
  "accelerator": "GPU",
  "colab": {
   "authorship_tag": "ABX9TyMJ1w696q0CbpyU4mKe9nJC",
   "gpuType": "T4",
   "provenance": []
  },
  "kernelspec": {
   "display_name": "Python 3",
   "name": "python3"
  },
  "language_info": {
   "name": "python"
  },
  "widgets": {
   "application/vnd.jupyter.widget-state+json": {
    "134c0344c49c4c6199798453ff287385": {
     "model_module": "@jupyter-widgets/controls",
     "model_module_version": "1.5.0",
     "model_name": "FloatProgressModel",
     "state": {
      "_dom_classes": [],
      "_model_module": "@jupyter-widgets/controls",
      "_model_module_version": "1.5.0",
      "_model_name": "FloatProgressModel",
      "_view_count": null,
      "_view_module": "@jupyter-widgets/controls",
      "_view_module_version": "1.5.0",
      "_view_name": "ProgressView",
      "bar_style": "success",
      "description": "",
      "description_tooltip": null,
      "layout": "IPY_MODEL_39f98be360fc4d1bbf51715af5661377",
      "max": 313,
      "min": 0,
      "orientation": "horizontal",
      "style": "IPY_MODEL_4b74c4b0f64b44c4a575f8b77f9ebe79",
      "value": 313
     }
    },
    "165132c9a6674638a6d6a45cbee4122f": {
     "model_module": "@jupyter-widgets/base",
     "model_module_version": "1.2.0",
     "model_name": "LayoutModel",
     "state": {
      "_model_module": "@jupyter-widgets/base",
      "_model_module_version": "1.2.0",
      "_model_name": "LayoutModel",
      "_view_count": null,
      "_view_module": "@jupyter-widgets/base",
      "_view_module_version": "1.2.0",
      "_view_name": "LayoutView",
      "align_content": null,
      "align_items": null,
      "align_self": null,
      "border": null,
      "bottom": null,
      "display": null,
      "flex": null,
      "flex_flow": null,
      "grid_area": null,
      "grid_auto_columns": null,
      "grid_auto_flow": null,
      "grid_auto_rows": null,
      "grid_column": null,
      "grid_gap": null,
      "grid_row": null,
      "grid_template_areas": null,
      "grid_template_columns": null,
      "grid_template_rows": null,
      "height": null,
      "justify_content": null,
      "justify_items": null,
      "left": null,
      "margin": null,
      "max_height": null,
      "max_width": null,
      "min_height": null,
      "min_width": null,
      "object_fit": null,
      "object_position": null,
      "order": null,
      "overflow": null,
      "overflow_x": null,
      "overflow_y": null,
      "padding": null,
      "right": null,
      "top": null,
      "visibility": null,
      "width": null
     }
    },
    "39f98be360fc4d1bbf51715af5661377": {
     "model_module": "@jupyter-widgets/base",
     "model_module_version": "1.2.0",
     "model_name": "LayoutModel",
     "state": {
      "_model_module": "@jupyter-widgets/base",
      "_model_module_version": "1.2.0",
      "_model_name": "LayoutModel",
      "_view_count": null,
      "_view_module": "@jupyter-widgets/base",
      "_view_module_version": "1.2.0",
      "_view_name": "LayoutView",
      "align_content": null,
      "align_items": null,
      "align_self": null,
      "border": null,
      "bottom": null,
      "display": null,
      "flex": null,
      "flex_flow": null,
      "grid_area": null,
      "grid_auto_columns": null,
      "grid_auto_flow": null,
      "grid_auto_rows": null,
      "grid_column": null,
      "grid_gap": null,
      "grid_row": null,
      "grid_template_areas": null,
      "grid_template_columns": null,
      "grid_template_rows": null,
      "height": null,
      "justify_content": null,
      "justify_items": null,
      "left": null,
      "margin": null,
      "max_height": null,
      "max_width": null,
      "min_height": null,
      "min_width": null,
      "object_fit": null,
      "object_position": null,
      "order": null,
      "overflow": null,
      "overflow_x": null,
      "overflow_y": null,
      "padding": null,
      "right": null,
      "top": null,
      "visibility": null,
      "width": null
     }
    },
    "3aa63da26afe4c7cb6943827f9b9798f": {
     "model_module": "@jupyter-widgets/base",
     "model_module_version": "1.2.0",
     "model_name": "LayoutModel",
     "state": {
      "_model_module": "@jupyter-widgets/base",
      "_model_module_version": "1.2.0",
      "_model_name": "LayoutModel",
      "_view_count": null,
      "_view_module": "@jupyter-widgets/base",
      "_view_module_version": "1.2.0",
      "_view_name": "LayoutView",
      "align_content": null,
      "align_items": null,
      "align_self": null,
      "border": null,
      "bottom": null,
      "display": null,
      "flex": null,
      "flex_flow": null,
      "grid_area": null,
      "grid_auto_columns": null,
      "grid_auto_flow": null,
      "grid_auto_rows": null,
      "grid_column": null,
      "grid_gap": null,
      "grid_row": null,
      "grid_template_areas": null,
      "grid_template_columns": null,
      "grid_template_rows": null,
      "height": null,
      "justify_content": null,
      "justify_items": null,
      "left": null,
      "margin": null,
      "max_height": null,
      "max_width": null,
      "min_height": null,
      "min_width": null,
      "object_fit": null,
      "object_position": null,
      "order": null,
      "overflow": null,
      "overflow_x": null,
      "overflow_y": null,
      "padding": null,
      "right": null,
      "top": null,
      "visibility": null,
      "width": null
     }
    },
    "4b74c4b0f64b44c4a575f8b77f9ebe79": {
     "model_module": "@jupyter-widgets/controls",
     "model_module_version": "1.5.0",
     "model_name": "ProgressStyleModel",
     "state": {
      "_model_module": "@jupyter-widgets/controls",
      "_model_module_version": "1.5.0",
      "_model_name": "ProgressStyleModel",
      "_view_count": null,
      "_view_module": "@jupyter-widgets/base",
      "_view_module_version": "1.2.0",
      "_view_name": "StyleView",
      "bar_color": null,
      "description_width": ""
     }
    },
    "5a50ab1324414919bac2ebd1dd5d4f1b": {
     "model_module": "@jupyter-widgets/controls",
     "model_module_version": "1.5.0",
     "model_name": "DescriptionStyleModel",
     "state": {
      "_model_module": "@jupyter-widgets/controls",
      "_model_module_version": "1.5.0",
      "_model_name": "DescriptionStyleModel",
      "_view_count": null,
      "_view_module": "@jupyter-widgets/base",
      "_view_module_version": "1.2.0",
      "_view_name": "StyleView",
      "description_width": ""
     }
    },
    "774e8a5214b4450688266a2e9c8f2c2a": {
     "model_module": "@jupyter-widgets/controls",
     "model_module_version": "1.5.0",
     "model_name": "ProgressStyleModel",
     "state": {
      "_model_module": "@jupyter-widgets/controls",
      "_model_module_version": "1.5.0",
      "_model_name": "ProgressStyleModel",
      "_view_count": null,
      "_view_module": "@jupyter-widgets/base",
      "_view_module_version": "1.2.0",
      "_view_name": "StyleView",
      "bar_color": null,
      "description_width": ""
     }
    },
    "8db97b59646840009e544cf6a8c713df": {
     "model_module": "@jupyter-widgets/controls",
     "model_module_version": "1.5.0",
     "model_name": "DescriptionStyleModel",
     "state": {
      "_model_module": "@jupyter-widgets/controls",
      "_model_module_version": "1.5.0",
      "_model_name": "DescriptionStyleModel",
      "_view_count": null,
      "_view_module": "@jupyter-widgets/base",
      "_view_module_version": "1.2.0",
      "_view_name": "StyleView",
      "description_width": ""
     }
    },
    "908033be264b459dac58bf23bc949bdb": {
     "model_module": "@jupyter-widgets/base",
     "model_module_version": "1.2.0",
     "model_name": "LayoutModel",
     "state": {
      "_model_module": "@jupyter-widgets/base",
      "_model_module_version": "1.2.0",
      "_model_name": "LayoutModel",
      "_view_count": null,
      "_view_module": "@jupyter-widgets/base",
      "_view_module_version": "1.2.0",
      "_view_name": "LayoutView",
      "align_content": null,
      "align_items": null,
      "align_self": null,
      "border": null,
      "bottom": null,
      "display": null,
      "flex": null,
      "flex_flow": null,
      "grid_area": null,
      "grid_auto_columns": null,
      "grid_auto_flow": null,
      "grid_auto_rows": null,
      "grid_column": null,
      "grid_gap": null,
      "grid_row": null,
      "grid_template_areas": null,
      "grid_template_columns": null,
      "grid_template_rows": null,
      "height": null,
      "justify_content": null,
      "justify_items": null,
      "left": null,
      "margin": null,
      "max_height": null,
      "max_width": null,
      "min_height": null,
      "min_width": null,
      "object_fit": null,
      "object_position": null,
      "order": null,
      "overflow": null,
      "overflow_x": null,
      "overflow_y": null,
      "padding": null,
      "right": null,
      "top": null,
      "visibility": null,
      "width": null
     }
    },
    "a5bcb78770eb41f8972b542c68a74078": {
     "model_module": "@jupyter-widgets/controls",
     "model_module_version": "1.5.0",
     "model_name": "HTMLModel",
     "state": {
      "_dom_classes": [],
      "_model_module": "@jupyter-widgets/controls",
      "_model_module_version": "1.5.0",
      "_model_name": "HTMLModel",
      "_view_count": null,
      "_view_module": "@jupyter-widgets/controls",
      "_view_module_version": "1.5.0",
      "_view_name": "HTMLView",
      "description": "",
      "description_tooltip": null,
      "layout": "IPY_MODEL_c8fa749a726143c8bcf564210e98cd19",
      "placeholder": "​",
      "style": "IPY_MODEL_5a50ab1324414919bac2ebd1dd5d4f1b",
      "value": "100%"
     }
    },
    "aaa2abd501da49728868913feaa64872": {
     "model_module": "@jupyter-widgets/controls",
     "model_module_version": "1.5.0",
     "model_name": "FloatProgressModel",
     "state": {
      "_dom_classes": [],
      "_model_module": "@jupyter-widgets/controls",
      "_model_module_version": "1.5.0",
      "_model_name": "FloatProgressModel",
      "_view_count": null,
      "_view_module": "@jupyter-widgets/controls",
      "_view_module_version": "1.5.0",
      "_view_name": "ProgressView",
      "bar_style": "success",
      "description": "",
      "description_tooltip": null,
      "layout": "IPY_MODEL_b6ff857152624ff5b599fadb2e924330",
      "max": 10,
      "min": 0,
      "orientation": "horizontal",
      "style": "IPY_MODEL_774e8a5214b4450688266a2e9c8f2c2a",
      "value": 10
     }
    },
    "b6217a16fa93402e96e010d065821b83": {
     "model_module": "@jupyter-widgets/controls",
     "model_module_version": "1.5.0",
     "model_name": "DescriptionStyleModel",
     "state": {
      "_model_module": "@jupyter-widgets/controls",
      "_model_module_version": "1.5.0",
      "_model_name": "DescriptionStyleModel",
      "_view_count": null,
      "_view_module": "@jupyter-widgets/base",
      "_view_module_version": "1.2.0",
      "_view_name": "StyleView",
      "description_width": ""
     }
    },
    "b6ff857152624ff5b599fadb2e924330": {
     "model_module": "@jupyter-widgets/base",
     "model_module_version": "1.2.0",
     "model_name": "LayoutModel",
     "state": {
      "_model_module": "@jupyter-widgets/base",
      "_model_module_version": "1.2.0",
      "_model_name": "LayoutModel",
      "_view_count": null,
      "_view_module": "@jupyter-widgets/base",
      "_view_module_version": "1.2.0",
      "_view_name": "LayoutView",
      "align_content": null,
      "align_items": null,
      "align_self": null,
      "border": null,
      "bottom": null,
      "display": null,
      "flex": null,
      "flex_flow": null,
      "grid_area": null,
      "grid_auto_columns": null,
      "grid_auto_flow": null,
      "grid_auto_rows": null,
      "grid_column": null,
      "grid_gap": null,
      "grid_row": null,
      "grid_template_areas": null,
      "grid_template_columns": null,
      "grid_template_rows": null,
      "height": null,
      "justify_content": null,
      "justify_items": null,
      "left": null,
      "margin": null,
      "max_height": null,
      "max_width": null,
      "min_height": null,
      "min_width": null,
      "object_fit": null,
      "object_position": null,
      "order": null,
      "overflow": null,
      "overflow_x": null,
      "overflow_y": null,
      "padding": null,
      "right": null,
      "top": null,
      "visibility": null,
      "width": null
     }
    },
    "bf490c5c91874cbeba206881e28d58a1": {
     "model_module": "@jupyter-widgets/controls",
     "model_module_version": "1.5.0",
     "model_name": "HBoxModel",
     "state": {
      "_dom_classes": [],
      "_model_module": "@jupyter-widgets/controls",
      "_model_module_version": "1.5.0",
      "_model_name": "HBoxModel",
      "_view_count": null,
      "_view_module": "@jupyter-widgets/controls",
      "_view_module_version": "1.5.0",
      "_view_name": "HBoxView",
      "box_style": "",
      "children": [
       "IPY_MODEL_a5bcb78770eb41f8972b542c68a74078",
       "IPY_MODEL_aaa2abd501da49728868913feaa64872",
       "IPY_MODEL_e41d15c45aac40f785aa87ec0fe4b1c7"
      ],
      "layout": "IPY_MODEL_ef1d80989d3546e08b78c027f21a4af9"
     }
    },
    "c6df5db6501943ee9bc728e0974358bf": {
     "model_module": "@jupyter-widgets/controls",
     "model_module_version": "1.5.0",
     "model_name": "HBoxModel",
     "state": {
      "_dom_classes": [],
      "_model_module": "@jupyter-widgets/controls",
      "_model_module_version": "1.5.0",
      "_model_name": "HBoxModel",
      "_view_count": null,
      "_view_module": "@jupyter-widgets/controls",
      "_view_module_version": "1.5.0",
      "_view_name": "HBoxView",
      "box_style": "",
      "children": [
       "IPY_MODEL_cb73012b31aa4e859fc5c2f1545091db",
       "IPY_MODEL_134c0344c49c4c6199798453ff287385",
       "IPY_MODEL_e2082376ee464924a893114121f53e98"
      ],
      "layout": "IPY_MODEL_f79164b47acd4d1eb0ea71d2ee67c639"
     }
    },
    "c8fa749a726143c8bcf564210e98cd19": {
     "model_module": "@jupyter-widgets/base",
     "model_module_version": "1.2.0",
     "model_name": "LayoutModel",
     "state": {
      "_model_module": "@jupyter-widgets/base",
      "_model_module_version": "1.2.0",
      "_model_name": "LayoutModel",
      "_view_count": null,
      "_view_module": "@jupyter-widgets/base",
      "_view_module_version": "1.2.0",
      "_view_name": "LayoutView",
      "align_content": null,
      "align_items": null,
      "align_self": null,
      "border": null,
      "bottom": null,
      "display": null,
      "flex": null,
      "flex_flow": null,
      "grid_area": null,
      "grid_auto_columns": null,
      "grid_auto_flow": null,
      "grid_auto_rows": null,
      "grid_column": null,
      "grid_gap": null,
      "grid_row": null,
      "grid_template_areas": null,
      "grid_template_columns": null,
      "grid_template_rows": null,
      "height": null,
      "justify_content": null,
      "justify_items": null,
      "left": null,
      "margin": null,
      "max_height": null,
      "max_width": null,
      "min_height": null,
      "min_width": null,
      "object_fit": null,
      "object_position": null,
      "order": null,
      "overflow": null,
      "overflow_x": null,
      "overflow_y": null,
      "padding": null,
      "right": null,
      "top": null,
      "visibility": null,
      "width": null
     }
    },
    "cb73012b31aa4e859fc5c2f1545091db": {
     "model_module": "@jupyter-widgets/controls",
     "model_module_version": "1.5.0",
     "model_name": "HTMLModel",
     "state": {
      "_dom_classes": [],
      "_model_module": "@jupyter-widgets/controls",
      "_model_module_version": "1.5.0",
      "_model_name": "HTMLModel",
      "_view_count": null,
      "_view_module": "@jupyter-widgets/controls",
      "_view_module_version": "1.5.0",
      "_view_name": "HTMLView",
      "description": "",
      "description_tooltip": null,
      "layout": "IPY_MODEL_165132c9a6674638a6d6a45cbee4122f",
      "placeholder": "​",
      "style": "IPY_MODEL_ee62762c11ba4ac9afdeb0c071ec4d5b",
      "value": "Making predictions: 100%"
     }
    },
    "e2082376ee464924a893114121f53e98": {
     "model_module": "@jupyter-widgets/controls",
     "model_module_version": "1.5.0",
     "model_name": "HTMLModel",
     "state": {
      "_dom_classes": [],
      "_model_module": "@jupyter-widgets/controls",
      "_model_module_version": "1.5.0",
      "_model_name": "HTMLModel",
      "_view_count": null,
      "_view_module": "@jupyter-widgets/controls",
      "_view_module_version": "1.5.0",
      "_view_name": "HTMLView",
      "description": "",
      "description_tooltip": null,
      "layout": "IPY_MODEL_3aa63da26afe4c7cb6943827f9b9798f",
      "placeholder": "​",
      "style": "IPY_MODEL_b6217a16fa93402e96e010d065821b83",
      "value": " 313/313 [00:07&lt;00:00, 32.79it/s]"
     }
    },
    "e41d15c45aac40f785aa87ec0fe4b1c7": {
     "model_module": "@jupyter-widgets/controls",
     "model_module_version": "1.5.0",
     "model_name": "HTMLModel",
     "state": {
      "_dom_classes": [],
      "_model_module": "@jupyter-widgets/controls",
      "_model_module_version": "1.5.0",
      "_model_name": "HTMLModel",
      "_view_count": null,
      "_view_module": "@jupyter-widgets/controls",
      "_view_module_version": "1.5.0",
      "_view_name": "HTMLView",
      "description": "",
      "description_tooltip": null,
      "layout": "IPY_MODEL_908033be264b459dac58bf23bc949bdb",
      "placeholder": "​",
      "style": "IPY_MODEL_8db97b59646840009e544cf6a8c713df",
      "value": " 10/10 [15:07&lt;00:00, 90.00s/it]"
     }
    },
    "ee62762c11ba4ac9afdeb0c071ec4d5b": {
     "model_module": "@jupyter-widgets/controls",
     "model_module_version": "1.5.0",
     "model_name": "DescriptionStyleModel",
     "state": {
      "_model_module": "@jupyter-widgets/controls",
      "_model_module_version": "1.5.0",
      "_model_name": "DescriptionStyleModel",
      "_view_count": null,
      "_view_module": "@jupyter-widgets/base",
      "_view_module_version": "1.2.0",
      "_view_name": "StyleView",
      "description_width": ""
     }
    },
    "ef1d80989d3546e08b78c027f21a4af9": {
     "model_module": "@jupyter-widgets/base",
     "model_module_version": "1.2.0",
     "model_name": "LayoutModel",
     "state": {
      "_model_module": "@jupyter-widgets/base",
      "_model_module_version": "1.2.0",
      "_model_name": "LayoutModel",
      "_view_count": null,
      "_view_module": "@jupyter-widgets/base",
      "_view_module_version": "1.2.0",
      "_view_name": "LayoutView",
      "align_content": null,
      "align_items": null,
      "align_self": null,
      "border": null,
      "bottom": null,
      "display": null,
      "flex": null,
      "flex_flow": null,
      "grid_area": null,
      "grid_auto_columns": null,
      "grid_auto_flow": null,
      "grid_auto_rows": null,
      "grid_column": null,
      "grid_gap": null,
      "grid_row": null,
      "grid_template_areas": null,
      "grid_template_columns": null,
      "grid_template_rows": null,
      "height": null,
      "justify_content": null,
      "justify_items": null,
      "left": null,
      "margin": null,
      "max_height": null,
      "max_width": null,
      "min_height": null,
      "min_width": null,
      "object_fit": null,
      "object_position": null,
      "order": null,
      "overflow": null,
      "overflow_x": null,
      "overflow_y": null,
      "padding": null,
      "right": null,
      "top": null,
      "visibility": null,
      "width": null
     }
    },
    "f79164b47acd4d1eb0ea71d2ee67c639": {
     "model_module": "@jupyter-widgets/base",
     "model_module_version": "1.2.0",
     "model_name": "LayoutModel",
     "state": {
      "_model_module": "@jupyter-widgets/base",
      "_model_module_version": "1.2.0",
      "_model_name": "LayoutModel",
      "_view_count": null,
      "_view_module": "@jupyter-widgets/base",
      "_view_module_version": "1.2.0",
      "_view_name": "LayoutView",
      "align_content": null,
      "align_items": null,
      "align_self": null,
      "border": null,
      "bottom": null,
      "display": null,
      "flex": null,
      "flex_flow": null,
      "grid_area": null,
      "grid_auto_columns": null,
      "grid_auto_flow": null,
      "grid_auto_rows": null,
      "grid_column": null,
      "grid_gap": null,
      "grid_row": null,
      "grid_template_areas": null,
      "grid_template_columns": null,
      "grid_template_rows": null,
      "height": null,
      "justify_content": null,
      "justify_items": null,
      "left": null,
      "margin": null,
      "max_height": null,
      "max_width": null,
      "min_height": null,
      "min_width": null,
      "object_fit": null,
      "object_position": null,
      "order": null,
      "overflow": null,
      "overflow_x": null,
      "overflow_y": null,
      "padding": null,
      "right": null,
      "top": null,
      "visibility": null,
      "width": null
     }
    }
   }
  }
 },
 "nbformat": 4,
 "nbformat_minor": 0
}
